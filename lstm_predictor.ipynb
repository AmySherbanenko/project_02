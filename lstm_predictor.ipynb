{
 "cells": [
  {
   "cell_type": "markdown",
   "metadata": {},
   "source": [
    "# LSTM Stock Predictor Using Closing Prices"
   ]
  },
  {
   "cell_type": "markdown",
   "metadata": {},
   "source": [
    "## Data Preparation\n",
    "\n",
    "In this section, we will prepare the training and testing data for the LSTM model.\n",
    "\n",
    "We will need to:\n",
    "1. Use the `window_data` function to generate the X and y values for the model.\n",
    "2. Split the data into 70% training and 30% testing\n",
    "3. Apply the MinMaxScaler to the `X` and `y` values\n",
    "4. Reshape the `X_train` and `X_test` data for the model.\n",
    "\n",
    "**Note:** The required input format for the LSTM is:\n",
    "\n",
    "```python\n",
    "reshape((X_train.shape[0], X_train.shape[1], 1))\n",
    "```"
   ]
  },
  {
   "cell_type": "code",
   "execution_count": 305,
   "metadata": {},
   "outputs": [],
   "source": [
    "# Initial imports\n",
    "import numpy as np\n",
    "import pandas as pd\n",
    "import datetime\n",
    "import tensorflow as tf\n",
    "from pathlib import Path\n",
    "import keras_tuner as kt\n",
    "\n",
    "%matplotlib inline"
   ]
  },
  {
   "cell_type": "code",
   "execution_count": 306,
   "metadata": {},
   "outputs": [],
   "source": [
    "# Set the random seed for reproducibility\n",
    "# Note: This is used for model prototyping, but it is good practice to comment this out and run multiple experiments to evaluate your model.\n",
    "from numpy.random import seed\n",
    "\n",
    "seed(1)\n",
    "from tensorflow import random\n",
    "\n",
    "random.set_seed(2)"
   ]
  },
  {
   "cell_type": "markdown",
   "metadata": {},
   "source": [
    "### Data Loading\n",
    "\n",
    "In this activity, we will use closing prices from different stocks to make predictions of future closing prices based on the temporal data of each stock."
   ]
  },
  {
   "cell_type": "code",
   "execution_count": 307,
   "metadata": {},
   "outputs": [],
   "source": [
    "# # Load the stocks data\n",
    "# df = pd.read_csv(\n",
    "#     Path(\"../Resources/stock_data.csv\"),\n",
    "#     index_col=\"date\",\n",
    "#     infer_datetime_format=True,\n",
    "#     parse_dates=True,\n",
    "# )\n",
    "# df.head()"
   ]
  },
  {
   "cell_type": "code",
   "execution_count": 308,
   "metadata": {
    "collapsed": false,
    "jupyter": {
     "outputs_hidden": false
    },
    "pycharm": {
     "name": "#%%\n"
    }
   },
   "outputs": [
    {
     "name": "stdout",
     "output_type": "stream",
     "text": [
      "The tensorboard extension is already loaded. To reload it, use:\n",
      "  %reload_ext tensorboard\n"
     ]
    }
   ],
   "source": [
    "%load_ext tensorboard"
   ]
  },
  {
   "cell_type": "code",
   "execution_count": 309,
   "metadata": {
    "collapsed": false,
    "jupyter": {
     "outputs_hidden": false
    },
    "pycharm": {
     "name": "#%%\n"
    }
   },
   "outputs": [],
   "source": [
    "!rm -rf ./logs/"
   ]
  },
  {
   "cell_type": "code",
   "execution_count": 310,
   "metadata": {
    "collapsed": false,
    "jupyter": {
     "outputs_hidden": false
    },
    "pycharm": {
     "name": "#%%\n"
    }
   },
   "outputs": [
    {
     "name": "stdout",
     "output_type": "stream",
     "text": [
      "[*********************100%***********************]  1 of 1 completed\n"
     ]
    },
    {
     "data": {
      "text/plain": "                   Open         High          Low        Close       Volume\nDate                                                                       \n2020-04-01   133.612320   135.634552   129.730942   135.634552  12456564435\n2020-04-02   135.732178   146.787094   135.732178   142.029144  15322861686\n2020-04-03   142.110458   146.899872   139.619385   142.091309  13184603402\n2020-04-04   142.215179   145.377304   140.121826   145.219391  11946658257\n2020-04-05   145.261017   146.128525   142.102081   143.546646  11280993591\n...                 ...          ...          ...          ...          ...\n2022-04-03  3444.810547  3573.960205  3421.259766  3522.833496  15333808649\n2022-04-04  3522.364990  3535.148193  3422.000977  3521.241211  18209969743\n2022-04-05  3521.239746  3546.706787  3410.547607  3411.792480  16681503199\n2022-04-06  3411.672119  3411.672119  3171.205078  3171.691895  25632563639\n2022-04-07  3172.197266  3263.474609  3155.581055  3233.274658  16745496605\n\n[737 rows x 5 columns]",
      "text/html": "<div>\n<style scoped>\n    .dataframe tbody tr th:only-of-type {\n        vertical-align: middle;\n    }\n\n    .dataframe tbody tr th {\n        vertical-align: top;\n    }\n\n    .dataframe thead th {\n        text-align: right;\n    }\n</style>\n<table border=\"1\" class=\"dataframe\">\n  <thead>\n    <tr style=\"text-align: right;\">\n      <th></th>\n      <th>Open</th>\n      <th>High</th>\n      <th>Low</th>\n      <th>Close</th>\n      <th>Volume</th>\n    </tr>\n    <tr>\n      <th>Date</th>\n      <th></th>\n      <th></th>\n      <th></th>\n      <th></th>\n      <th></th>\n    </tr>\n  </thead>\n  <tbody>\n    <tr>\n      <th>2020-04-01</th>\n      <td>133.612320</td>\n      <td>135.634552</td>\n      <td>129.730942</td>\n      <td>135.634552</td>\n      <td>12456564435</td>\n    </tr>\n    <tr>\n      <th>2020-04-02</th>\n      <td>135.732178</td>\n      <td>146.787094</td>\n      <td>135.732178</td>\n      <td>142.029144</td>\n      <td>15322861686</td>\n    </tr>\n    <tr>\n      <th>2020-04-03</th>\n      <td>142.110458</td>\n      <td>146.899872</td>\n      <td>139.619385</td>\n      <td>142.091309</td>\n      <td>13184603402</td>\n    </tr>\n    <tr>\n      <th>2020-04-04</th>\n      <td>142.215179</td>\n      <td>145.377304</td>\n      <td>140.121826</td>\n      <td>145.219391</td>\n      <td>11946658257</td>\n    </tr>\n    <tr>\n      <th>2020-04-05</th>\n      <td>145.261017</td>\n      <td>146.128525</td>\n      <td>142.102081</td>\n      <td>143.546646</td>\n      <td>11280993591</td>\n    </tr>\n    <tr>\n      <th>...</th>\n      <td>...</td>\n      <td>...</td>\n      <td>...</td>\n      <td>...</td>\n      <td>...</td>\n    </tr>\n    <tr>\n      <th>2022-04-03</th>\n      <td>3444.810547</td>\n      <td>3573.960205</td>\n      <td>3421.259766</td>\n      <td>3522.833496</td>\n      <td>15333808649</td>\n    </tr>\n    <tr>\n      <th>2022-04-04</th>\n      <td>3522.364990</td>\n      <td>3535.148193</td>\n      <td>3422.000977</td>\n      <td>3521.241211</td>\n      <td>18209969743</td>\n    </tr>\n    <tr>\n      <th>2022-04-05</th>\n      <td>3521.239746</td>\n      <td>3546.706787</td>\n      <td>3410.547607</td>\n      <td>3411.792480</td>\n      <td>16681503199</td>\n    </tr>\n    <tr>\n      <th>2022-04-06</th>\n      <td>3411.672119</td>\n      <td>3411.672119</td>\n      <td>3171.205078</td>\n      <td>3171.691895</td>\n      <td>25632563639</td>\n    </tr>\n    <tr>\n      <th>2022-04-07</th>\n      <td>3172.197266</td>\n      <td>3263.474609</td>\n      <td>3155.581055</td>\n      <td>3233.274658</td>\n      <td>16745496605</td>\n    </tr>\n  </tbody>\n</table>\n<p>737 rows × 5 columns</p>\n</div>"
     },
     "execution_count": 310,
     "metadata": {},
     "output_type": "execute_result"
    }
   ],
   "source": [
    "import yfinance as yf\n",
    "\n",
    "btcdata = yf.download(\"ETH-USD\", start=\"2020-04-01\", end=\"2022-04-07\")\n",
    "df = pd.DataFrame(btcdata)\n",
    "df.drop(columns=['Adj Close'],inplace=True)\n",
    "\n",
    "\n",
    "df"
   ]
  },
  {
   "cell_type": "code",
   "execution_count": 311,
   "metadata": {
    "collapsed": false,
    "jupyter": {
     "outputs_hidden": false
    },
    "pycharm": {
     "name": "#%%\n"
    }
   },
   "outputs": [
    {
     "data": {
      "text/plain": "<AxesSubplot:xlabel='Date'>"
     },
     "execution_count": 311,
     "metadata": {},
     "output_type": "execute_result"
    },
    {
     "data": {
      "text/plain": "<Figure size 432x288 with 1 Axes>",
      "image/png": "[encoded data removed]"
     },
     "metadata": {
      "needs_background": "light"
     },
     "output_type": "display_data"
    }
   ],
   "source": [
    "df.Close.plot()"
   ]
  },
  {
   "cell_type": "markdown",
   "metadata": {},
   "source": [
    "### Creating the Features `X` and Target `y` Data\n",
    "\n",
    "The first step towards preparing the data is to create the input features vectors `X` and the target vector `y`. We will use the `window_data()` function to create these vectors.\n",
    "\n",
    "This function chunks the data up with a rolling window of _X<sub>t</sub> - window_ to predict _X<sub>t</sub>_.\n",
    "\n",
    "The function returns two `numpy` arrays:\n",
    "\n",
    "* `X`: The input features vectors.\n",
    "\n",
    "* `y`: The target vector.\n",
    "\n",
    "The function has the following parameters:\n",
    "\n",
    "* `df`: The original DataFrame with the time series data.\n",
    "\n",
    "* `window`: The window size in days of previous closing prices that will be used for the prediction.\n",
    "\n",
    "* `feature_col_number`: The column number from the original DataFrame where the features are located.\n",
    "\n",
    "* `target_col_number`: The column number from the original DataFrame where the target is located."
   ]
  },
  {
   "cell_type": "code",
   "execution_count": 312,
   "metadata": {},
   "outputs": [],
   "source": [
    "def window_data(df, window, feature_col_number, target_col_number):\n",
    "    \"\"\"\n",
    "    This function accepts the column number for the features (X) and the target (y).\n",
    "    It chunks the data up with a rolling window of Xt - window to predict Xt.\n",
    "    It returns two numpy arrays of X and y.\n",
    "    \"\"\"\n",
    "    X = []\n",
    "    y = []\n",
    "    for i in range(len(df) - window):\n",
    "        features = df.iloc[i : (i + window), feature_col_number]\n",
    "        target = df.iloc[(i + window), target_col_number]\n",
    "        X.append(features)\n",
    "        y.append(target)\n",
    "    return np.array(X), np.array(y).reshape(-1, 1)"
   ]
  },
  {
   "cell_type": "markdown",
   "metadata": {},
   "source": [
    "In the forthcoming activities, we will predict closing prices using a `5` days windows of previous _T-Bonds_ closing prices, so that, we will create the `X` and `y` vectors by calling the `window_data` function and defining a window size of `5` and setting the features and target column numbers to `2` (this is the column with the _T-Bonds_ closing prices)."
   ]
  },
  {
   "cell_type": "code",
   "execution_count": 313,
   "metadata": {},
   "outputs": [
    {
     "name": "stdout",
     "output_type": "stream",
     "text": [
      "X sample values:\n",
      "[[135.634552   142.02914429 142.09130859 145.21939087 143.54664612\n",
      "  169.13587952 165.10194397 172.64173889 170.80714417 158.41244507]\n",
      " [142.02914429 142.09130859 145.21939087 143.54664612 169.13587952\n",
      "  165.10194397 172.64173889 170.80714417 158.41244507 158.21601868]\n",
      " [142.09130859 145.21939087 143.54664612 169.13587952 165.10194397\n",
      "  172.64173889 170.80714417 158.41244507 158.21601868 161.14242554]\n",
      " [145.21939087 143.54664612 169.13587952 165.10194397 172.64173889\n",
      "  170.80714417 158.41244507 158.21601868 161.14242554 156.27955627]\n",
      " [143.54664612 169.13587952 165.10194397 172.64173889 170.80714417\n",
      "  158.41244507 158.21601868 161.14242554 156.27955627 157.59638977]] \n",
      "\n",
      "y sample values:\n",
      "[[158.21601868]\n",
      " [161.14242554]\n",
      " [156.27955627]\n",
      " [157.59638977]\n",
      " [153.28689575]]\n"
     ]
    }
   ],
   "source": [
    "# Creating the features (X) and target (y) data using the window_data() function.\n",
    "window_size = 10\n",
    "\n",
    "feature_column = 3\n",
    "target_column = 3\n",
    "X, y = window_data(df, window_size, feature_column, target_column)\n",
    "print (f\"X sample values:\\n{X[:5]} \\n\")\n",
    "print (f\"y sample values:\\n{y[:5]}\")"
   ]
  },
  {
   "cell_type": "markdown",
   "metadata": {},
   "source": [
    "### Splitting Data Between Training and Testing Sets\n",
    "\n",
    "To avoid the dataset being randomized, we will manually split the data using array slicing."
   ]
  },
  {
   "cell_type": "code",
   "execution_count": 314,
   "metadata": {},
   "outputs": [],
   "source": [
    "# Use 70% of the data for training and the remainder for testing\n",
    "split = int(0.7 * len(X))\n",
    "X_train = X[: split]\n",
    "X_test = X[split:]\n",
    "y_train = y[: split]\n",
    "y_test = y[split:]"
   ]
  },
  {
   "cell_type": "markdown",
   "metadata": {},
   "source": [
    "### Scaling Data with `MinMaxScaler`\n",
    "\n",
    "Once the training and test datasets are created, we need to scale the data before training the LSTM model. We will use the `MinMaxScaler` from `sklearn` to scale all values between `0` and `1`.\n",
    "\n",
    "Note that we scale both features and target sets."
   ]
  },
  {
   "cell_type": "code",
   "execution_count": 315,
   "metadata": {},
   "outputs": [],
   "source": [
    "# Use the MinMaxScaler to scale data between 0 and 1.\n",
    "from sklearn.preprocessing import MinMaxScaler\n",
    "\n",
    "# Create a MinMaxScaler object\n",
    "scaler = MinMaxScaler()\n",
    "\n",
    "# Fit the MinMaxScaler object with the training feature data X_train\n",
    "scaler.fit(X_train)\n",
    "\n",
    "# Scale the features training and testing sets\n",
    "X_train = scaler.transform(X_train)\n",
    "X_test = scaler.transform(X_test)\n",
    "\n",
    "# Fit the MinMaxScaler object with the training target data y_train\n",
    "scaler.fit(y_train)\n",
    "\n",
    "# Scale the target training and testing sets\n",
    "y_train = scaler.transform(y_train)\n",
    "y_test = scaler.transform(y_test)"
   ]
  },
  {
   "cell_type": "markdown",
   "metadata": {},
   "source": [
    "### Reshape Features Data for the LSTM Model\n",
    "\n",
    "The LSTM API from Keras needs to receive the features data as a _vertical vector_, so that we need to reshape the `X` data in the form `reshape((X_train.shape[0], X_train.shape[1], 1))`.\n",
    "\n",
    "Both sets, training, and testing are reshaped."
   ]
  },
  {
   "cell_type": "code",
   "execution_count": 316,
   "metadata": {},
   "outputs": [
    {
     "name": "stdout",
     "output_type": "stream",
     "text": [
      "X_train sample values:\n",
      "[[[0.00000000e+00]\n",
      "  [0.00000000e+00]\n",
      "  [0.00000000e+00]\n",
      "  [4.15572804e-04]\n",
      "  [0.00000000e+00]\n",
      "  [3.94703577e-03]\n",
      "  [2.94242322e-03]\n",
      "  [4.82013606e-03]\n",
      "  [4.36324803e-03]\n",
      "  [1.27646837e-03]]\n",
      "\n",
      " [[1.58554095e-03]\n",
      "  [1.54381351e-05]\n",
      "  [7.76852584e-04]\n",
      "  [0.00000000e+00]\n",
      "  [6.35732945e-03]\n",
      "  [2.94242322e-03]\n",
      "  [4.82013606e-03]\n",
      "  [4.36324803e-03]\n",
      "  [1.27646837e-03]\n",
      "  [1.22755028e-03]]\n",
      "\n",
      " [[1.60095461e-03]\n",
      "  [7.92278726e-04]\n",
      "  [3.61429981e-04]\n",
      "  [6.35732945e-03]\n",
      "  [5.35514791e-03]\n",
      "  [4.82013606e-03]\n",
      "  [4.36324803e-03]\n",
      "  [1.27646837e-03]\n",
      "  [1.22755028e-03]\n",
      "  [1.95634354e-03]]\n",
      "\n",
      " [[2.37656349e-03]\n",
      "  [3.76862536e-04]\n",
      "  [6.71646170e-03]\n",
      "  [5.35514791e-03]\n",
      "  [7.22831697e-03]\n",
      "  [4.36324803e-03]\n",
      "  [1.27646837e-03]\n",
      "  [1.22755028e-03]\n",
      "  [1.95634354e-03]\n",
      "  [7.45293092e-04]]\n",
      "\n",
      " [[1.96180596e-03]\n",
      "  [6.73179614e-03]\n",
      "  [5.71464238e-03]\n",
      "  [7.22831697e-03]\n",
      "  [6.77253454e-03]\n",
      "  [1.27646837e-03]\n",
      "  [1.22755028e-03]\n",
      "  [1.95634354e-03]\n",
      "  [7.45293092e-04]\n",
      "  [1.07323771e-03]]] \n",
      "\n",
      "X_test sample values:\n",
      "[[[0.77025282]\n",
      "  [0.78904568]\n",
      "  [0.7525847 ]\n",
      "  [0.76552804]\n",
      "  [0.73457523]\n",
      "  [0.77633682]\n",
      "  [0.76981258]\n",
      "  [0.76547912]\n",
      "  [0.76482454]\n",
      "  [0.81696322]]\n",
      "\n",
      " [[0.78938016]\n",
      "  [0.75258852]\n",
      "  [0.76561278]\n",
      "  [0.73457523]\n",
      "  [0.77687805]\n",
      "  [0.76981258]\n",
      "  [0.76547912]\n",
      "  [0.76482454]\n",
      "  [0.81696322]\n",
      "  [0.91685215]]\n",
      "\n",
      " [[0.7529808 ]\n",
      "  [0.7656164 ]\n",
      "  [0.73467116]\n",
      "  [0.77687805]\n",
      "  [0.7703696 ]\n",
      "  [0.76547912]\n",
      "  [0.76482454]\n",
      "  [0.81696322]\n",
      "  [0.91685215]\n",
      "  [0.90593469]]\n",
      "\n",
      " [[0.76598802]\n",
      "  [0.73467525]\n",
      "  [0.77695869]\n",
      "  [0.7703696 ]\n",
      "  [0.76604662]\n",
      "  [0.76482454]\n",
      "  [0.81696322]\n",
      "  [0.91685215]\n",
      "  [0.90593469]\n",
      "  [0.94319729]]\n",
      "\n",
      " [[0.73509594]\n",
      "  [0.77696213]\n",
      "  [0.77045259]\n",
      "  [0.76604662]\n",
      "  [0.76539363]\n",
      "  [0.81696322]\n",
      "  [0.91685215]\n",
      "  [0.90593469]\n",
      "  [0.94319729]\n",
      "  [0.93005135]]]\n"
     ]
    }
   ],
   "source": [
    "# Reshape the features for the model\n",
    "X_train = X_train.reshape((X_train.shape[0], X_train.shape[1], 1))\n",
    "X_test = X_test.reshape((X_test.shape[0], X_test.shape[1], 1))\n",
    "print (f\"X_train sample values:\\n{X_train[:5]} \\n\")\n",
    "print (f\"X_test sample values:\\n{X_test[:5]}\")"
   ]
  },
  {
   "cell_type": "markdown",
   "metadata": {},
   "source": [
    "---\n",
    "\n",
    "## Build and Train the LSTM RNN\n",
    "\n",
    "In this section, we will design a custom LSTM RNN in Keras and fit (train) it using the training data we defined.\n",
    "\n",
    "We will need to:\n",
    "\n",
    "1. Define the model architecture in Keras.\n",
    "\n",
    "2. Compile the model.\n",
    "\n",
    "3. Fit the model to the training data."
   ]
  },
  {
   "cell_type": "markdown",
   "metadata": {},
   "source": [
    "### Importing the Keras Modules\n",
    "\n",
    "The LSTM RNN model in Keras uses the `Sequential` model and the `LSTM` layer as we did before. However, there is a new type of layer called `Dropout`.\n",
    "\n",
    "* `Dropout`: Dropout is a regularization technique for reducing overfitting in neural networks. This type of layer applies the dropout technique to the input."
   ]
  },
  {
   "cell_type": "code",
   "execution_count": 317,
   "metadata": {},
   "outputs": [],
   "source": [
    "# Import required Keras modules\n",
    "import tensorflow as tf\n",
    "from tensorflow.keras.models import Sequential\n",
    "from tensorflow.keras.layers import LSTM, Dense, Dropout\n",
    "from tensorflow import keras"
   ]
  },
  {
   "cell_type": "markdown",
   "metadata": {},
   "source": [
    "### Defining the LSTM RNN Model Structure\n",
    "\n",
    "To create an LSTM RNN model, we will add `LSTM` layers. The `return_sequences` parameter needs to set to `True` every time we add a new `LSTM` layer, excluding the final layer. The `input_shape` is the number of time steps and the number of indicators\n",
    "\n",
    "After each `LSTM` layer, we add a `Dropout` layer to prevent overfitting. The parameter passed to the `Dropout` layer is the fraction of nodes that will be drop on each epoch, for this demo, we will use a dropout value of `0.2`, it means that on each epoch we will randomly drop `20%` of the units.\n",
    "\n",
    "The number of units in each `LSTM` layers, is equal to the size of the time window, in this demo, we are taking five previous `T-Bons` closing price to predict the next closing price."
   ]
  },
  {
   "cell_type": "code",
   "execution_count": 318,
   "metadata": {},
   "outputs": [],
   "source": [
    "# HP_NUM_UNITS = hp.HParam('num_units', hp.Discrete([5, 32]))\n",
    "# HP_DROPOUT = hp.HParam('dropout', hp.RealInterval(0.1, 0.2))\n",
    "# HP_OPTIMIZER = hp.HParam('optimizer', hp.Discrete(['adam', 'sgd']))\n",
    "#\n",
    "# METRIC_ACCURACY = 'accuracy'\n",
    "#\n",
    "# with tf.summary.create_file_writer('logs/hparam_tuning').as_default():\n",
    "#   hp.hparams_config(\n",
    "#     hparams=[HP_NUM_UNITS, HP_DROPOUT, HP_OPTIMIZER],\n",
    "#     metrics=[hp.Metric(METRIC_ACCURACY, display_name='Accuracy')],\n",
    "#   )\n"
   ]
  },
  {
   "cell_type": "code",
   "execution_count": 319,
   "metadata": {},
   "outputs": [],
   "source": [
    "# Define the LSTM RNN model.\n",
    "def model_builder(hp):\n",
    "    model = Sequential()\n",
    "\n",
    "    hp_units = hp.Int('units', min_value=2, max_value=218, step=32)\n",
    "    dropout_fraction = 0.2\n",
    "    hp_learning_rate = hp.Choice('learning_rate', values=[1e-2, 1e-3, 1e-4])\n",
    "\n",
    "    # Layer 1\n",
    "    model.add(LSTM(\n",
    "        units=hp_units,\n",
    "        return_sequences=True,\n",
    "        input_shape=(X_train.shape[1], 1))\n",
    "        )\n",
    "    model.add(Dropout(dropout_fraction))\n",
    "    # Layer 2\n",
    "    model.add(LSTM(units=hp_units, return_sequences=True))\n",
    "    model.add(Dropout(dropout_fraction))\n",
    "    # Layer 3\n",
    "    model.add(LSTM(units=hp_units))\n",
    "    model.add(Dropout(dropout_fraction))\n",
    "    # Output layer\n",
    "    model.add(Dense(1))\n",
    "    model.compile(optimizer=keras.optimizers.Adam(learning_rate=hp_learning_rate), loss=\"mean_squared_error\",metrics=['accuracy'])\n",
    "    model.summary()\n",
    "    return model"
   ]
  },
  {
   "cell_type": "markdown",
   "metadata": {},
   "source": [
    "### Compiling the LSTM RNN Model\n",
    "\n",
    "We will compile the model, using the `adam` optimizer, as loss function, we will use `mean_square_error` since the value we want to predict is continuous."
   ]
  },
  {
   "cell_type": "code",
   "execution_count": 320,
   "outputs": [],
   "source": [
    "import shutil\n",
    "\n",
    "dir_path = 'my_dir'\n",
    "\n",
    "try:\n",
    "    shutil.rmtree(dir_path)\n",
    "except OSError as e:\n",
    "    print(\"Error: %s : %s\" % (dir_path, e.strerror))"
   ],
   "metadata": {
    "collapsed": false,
    "pycharm": {
     "name": "#%%\n"
    }
   }
  },
  {
   "cell_type": "code",
   "execution_count": 321,
   "metadata": {},
   "outputs": [
    {
     "name": "stdout",
     "output_type": "stream",
     "text": [
      "Trial 20 Complete [00h 00m 06s]\n",
      "val_accuracy: 0.0\n",
      "\n",
      "Best val_accuracy So Far: 0.0\n",
      "Total elapsed time: 00h 02m 08s\n",
      "INFO:tensorflow:Oracle triggered exit\n",
      "\n",
      "The hyperparameter search is complete. The optimal number of units in the first densely-connected\n",
      "layer is 66 and the optimal learning rate for the optimizer\n",
      "is 0.001.\n",
      "\n"
     ]
    }
   ],
   "source": [
    "\n",
    "\n",
    "\n",
    "tuner = kt.Hyperband(model_builder,\n",
    "                     objective='val_accuracy',\n",
    "                     max_epochs=40,\n",
    "                     factor=3,\n",
    "                     directory='my_dir',\n",
    "                     project_name='intro_to_kt')\n",
    "\n",
    "stop_early = tf.keras.callbacks.EarlyStopping(monitor='val_loss', patience=5)\n",
    "tuner.search(X_train, y_train, epochs=50, validation_split=0.2, callbacks=[stop_early])\n",
    "\n",
    "# Get the optimal hyperparameters\n",
    "best_hps=tuner.get_best_hyperparameters(num_trials=1)[0]\n",
    "\n",
    "print(f\"\"\"\n",
    "The hyperparameter search is complete. The optimal number of units in the first densely-connected\n",
    "layer is {best_hps.get('units')} and the optimal learning rate for the optimizer\n",
    "is {best_hps.get('learning_rate')}.\n",
    "\"\"\")"
   ]
  },
  {
   "cell_type": "markdown",
   "metadata": {},
   "source": [
    "### Training the Model\n",
    "\n",
    "Once the model is defined, we train (fit) the model using `10` epochs. Since we are working with time-series data, it's important to set `shuffle=False` since it's necessary to keep the sequential order of the data.\n",
    "\n",
    "We can experiment with the `batch_size` parameter; however, smaller batch size is recommended; in this demo, we will use a `batch_size=1`."
   ]
  },
  {
   "cell_type": "code",
   "execution_count": 322,
   "metadata": {
    "collapsed": false,
    "jupyter": {
     "outputs_hidden": false
    },
    "pycharm": {
     "name": "#%%\n"
    }
   },
   "outputs": [
    {
     "name": "stdout",
     "output_type": "stream",
     "text": [
      "Model: \"sequential_1\"\n",
      "_________________________________________________________________\n",
      " Layer (type)                Output Shape              Param #   \n",
      "=================================================================\n",
      " lstm_3 (LSTM)               (None, 10, 66)            17952     \n",
      "                                                                 \n",
      " dropout_3 (Dropout)         (None, 10, 66)            0         \n",
      "                                                                 \n",
      " lstm_4 (LSTM)               (None, 10, 66)            35112     \n",
      "                                                                 \n",
      " dropout_4 (Dropout)         (None, 10, 66)            0         \n",
      "                                                                 \n",
      " lstm_5 (LSTM)               (None, 66)                35112     \n",
      "                                                                 \n",
      " dropout_5 (Dropout)         (None, 66)                0         \n",
      "                                                                 \n",
      " dense_1 (Dense)             (None, 1)                 67        \n",
      "                                                                 \n",
      "=================================================================\n",
      "Total params: 88,243\n",
      "Trainable params: 88,243\n",
      "Non-trainable params: 0\n",
      "_________________________________________________________________\n",
      "Epoch 1/50\n",
      "13/13 [==============================] - 5s 95ms/step - loss: 0.0312 - accuracy: 0.0049 - val_loss: 0.0066 - val_accuracy: 0.0000e+00\n",
      "Epoch 2/50\n",
      "13/13 [==============================] - 0s 13ms/step - loss: 0.0057 - accuracy: 0.0049 - val_loss: 0.0085 - val_accuracy: 0.0000e+00\n",
      "Epoch 3/50\n",
      "13/13 [==============================] - 0s 12ms/step - loss: 0.0040 - accuracy: 0.0049 - val_loss: 0.0058 - val_accuracy: 0.0000e+00\n",
      "Epoch 4/50\n",
      "13/13 [==============================] - 0s 15ms/step - loss: 0.0036 - accuracy: 0.0049 - val_loss: 0.0063 - val_accuracy: 0.0000e+00\n",
      "Epoch 5/50\n",
      "13/13 [==============================] - 0s 12ms/step - loss: 0.0036 - accuracy: 0.0049 - val_loss: 0.0056 - val_accuracy: 0.0000e+00\n",
      "Epoch 6/50\n",
      "13/13 [==============================] - 0s 12ms/step - loss: 0.0037 - accuracy: 0.0049 - val_loss: 0.0064 - val_accuracy: 0.0000e+00\n",
      "Epoch 7/50\n",
      "13/13 [==============================] - 0s 12ms/step - loss: 0.0038 - accuracy: 0.0049 - val_loss: 0.0090 - val_accuracy: 0.0000e+00\n",
      "Epoch 8/50\n",
      "13/13 [==============================] - 0s 12ms/step - loss: 0.0036 - accuracy: 0.0049 - val_loss: 0.0056 - val_accuracy: 0.0000e+00\n",
      "Epoch 9/50\n",
      "13/13 [==============================] - 0s 12ms/step - loss: 0.0027 - accuracy: 0.0049 - val_loss: 0.0059 - val_accuracy: 0.0000e+00\n",
      "Epoch 10/50\n",
      "13/13 [==============================] - 0s 12ms/step - loss: 0.0032 - accuracy: 0.0049 - val_loss: 0.0053 - val_accuracy: 0.0000e+00\n",
      "Epoch 11/50\n",
      "13/13 [==============================] - 0s 12ms/step - loss: 0.0029 - accuracy: 0.0049 - val_loss: 0.0052 - val_accuracy: 0.0000e+00\n",
      "Epoch 12/50\n",
      "13/13 [==============================] - 0s 12ms/step - loss: 0.0031 - accuracy: 0.0049 - val_loss: 0.0066 - val_accuracy: 0.0000e+00\n",
      "Epoch 13/50\n",
      "13/13 [==============================] - 0s 12ms/step - loss: 0.0034 - accuracy: 0.0049 - val_loss: 0.0051 - val_accuracy: 0.0000e+00\n",
      "Epoch 14/50\n",
      "13/13 [==============================] - 0s 12ms/step - loss: 0.0025 - accuracy: 0.0049 - val_loss: 0.0102 - val_accuracy: 0.0000e+00\n",
      "Epoch 15/50\n",
      "13/13 [==============================] - 0s 12ms/step - loss: 0.0035 - accuracy: 0.0049 - val_loss: 0.0077 - val_accuracy: 0.0000e+00\n",
      "Epoch 16/50\n",
      "13/13 [==============================] - 0s 12ms/step - loss: 0.0037 - accuracy: 0.0049 - val_loss: 0.0082 - val_accuracy: 0.0000e+00\n",
      "Epoch 17/50\n",
      "13/13 [==============================] - 0s 12ms/step - loss: 0.0029 - accuracy: 0.0049 - val_loss: 0.0055 - val_accuracy: 0.0000e+00\n",
      "Epoch 18/50\n",
      "13/13 [==============================] - 0s 12ms/step - loss: 0.0025 - accuracy: 0.0049 - val_loss: 0.0052 - val_accuracy: 0.0000e+00\n",
      "Epoch 19/50\n",
      "13/13 [==============================] - 0s 12ms/step - loss: 0.0035 - accuracy: 0.0049 - val_loss: 0.0056 - val_accuracy: 0.0000e+00\n",
      "Epoch 20/50\n",
      "13/13 [==============================] - 0s 12ms/step - loss: 0.0033 - accuracy: 0.0049 - val_loss: 0.0054 - val_accuracy: 0.0000e+00\n",
      "Epoch 21/50\n",
      "13/13 [==============================] - 0s 12ms/step - loss: 0.0030 - accuracy: 0.0049 - val_loss: 0.0099 - val_accuracy: 0.0000e+00\n",
      "Epoch 22/50\n",
      "13/13 [==============================] - 0s 12ms/step - loss: 0.0038 - accuracy: 0.0049 - val_loss: 0.0091 - val_accuracy: 0.0000e+00\n",
      "Epoch 23/50\n",
      "13/13 [==============================] - 0s 12ms/step - loss: 0.0031 - accuracy: 0.0049 - val_loss: 0.0048 - val_accuracy: 0.0000e+00\n",
      "Epoch 24/50\n",
      "13/13 [==============================] - 0s 12ms/step - loss: 0.0025 - accuracy: 0.0049 - val_loss: 0.0057 - val_accuracy: 0.0000e+00\n",
      "Epoch 25/50\n",
      "13/13 [==============================] - 0s 12ms/step - loss: 0.0024 - accuracy: 0.0049 - val_loss: 0.0043 - val_accuracy: 0.0000e+00\n",
      "Epoch 26/50\n",
      "13/13 [==============================] - 0s 12ms/step - loss: 0.0033 - accuracy: 0.0049 - val_loss: 0.0054 - val_accuracy: 0.0000e+00\n",
      "Epoch 27/50\n",
      "13/13 [==============================] - 0s 12ms/step - loss: 0.0027 - accuracy: 0.0049 - val_loss: 0.0044 - val_accuracy: 0.0000e+00\n",
      "Epoch 28/50\n",
      "13/13 [==============================] - 0s 12ms/step - loss: 0.0022 - accuracy: 0.0049 - val_loss: 0.0044 - val_accuracy: 0.0000e+00\n",
      "Epoch 29/50\n",
      "13/13 [==============================] - 0s 12ms/step - loss: 0.0025 - accuracy: 0.0049 - val_loss: 0.0047 - val_accuracy: 0.0000e+00\n",
      "Epoch 30/50\n",
      "13/13 [==============================] - 0s 12ms/step - loss: 0.0026 - accuracy: 0.0049 - val_loss: 0.0071 - val_accuracy: 0.0000e+00\n",
      "Epoch 31/50\n",
      "13/13 [==============================] - 0s 12ms/step - loss: 0.0031 - accuracy: 0.0049 - val_loss: 0.0037 - val_accuracy: 0.0000e+00\n",
      "Epoch 32/50\n",
      "13/13 [==============================] - 0s 12ms/step - loss: 0.0022 - accuracy: 0.0049 - val_loss: 0.0036 - val_accuracy: 0.0000e+00\n",
      "Epoch 33/50\n",
      "13/13 [==============================] - 0s 12ms/step - loss: 0.0034 - accuracy: 0.0049 - val_loss: 0.0044 - val_accuracy: 0.0000e+00\n",
      "Epoch 34/50\n",
      "13/13 [==============================] - 0s 12ms/step - loss: 0.0025 - accuracy: 0.0049 - val_loss: 0.0052 - val_accuracy: 0.0000e+00\n",
      "Epoch 35/50\n",
      "13/13 [==============================] - 0s 12ms/step - loss: 0.0017 - accuracy: 0.0049 - val_loss: 0.0049 - val_accuracy: 0.0000e+00\n",
      "Epoch 36/50\n",
      "13/13 [==============================] - 0s 12ms/step - loss: 0.0017 - accuracy: 0.0049 - val_loss: 0.0045 - val_accuracy: 0.0000e+00\n",
      "Epoch 37/50\n",
      "13/13 [==============================] - 0s 12ms/step - loss: 0.0023 - accuracy: 0.0049 - val_loss: 0.0033 - val_accuracy: 0.0000e+00\n",
      "Epoch 38/50\n",
      "13/13 [==============================] - 0s 12ms/step - loss: 0.0020 - accuracy: 0.0049 - val_loss: 0.0041 - val_accuracy: 0.0000e+00\n",
      "Epoch 39/50\n",
      "13/13 [==============================] - 0s 12ms/step - loss: 0.0019 - accuracy: 0.0049 - val_loss: 0.0076 - val_accuracy: 0.0000e+00\n",
      "Epoch 40/50\n",
      "13/13 [==============================] - 0s 12ms/step - loss: 0.0029 - accuracy: 0.0049 - val_loss: 0.0065 - val_accuracy: 0.0000e+00\n",
      "Epoch 41/50\n",
      "13/13 [==============================] - 0s 12ms/step - loss: 0.0021 - accuracy: 0.0049 - val_loss: 0.0057 - val_accuracy: 0.0000e+00\n",
      "Epoch 42/50\n",
      "13/13 [==============================] - 0s 12ms/step - loss: 0.0024 - accuracy: 0.0049 - val_loss: 0.0031 - val_accuracy: 0.0000e+00\n",
      "Epoch 43/50\n",
      "13/13 [==============================] - 0s 12ms/step - loss: 0.0016 - accuracy: 0.0049 - val_loss: 0.0028 - val_accuracy: 0.0000e+00\n",
      "Epoch 44/50\n",
      "13/13 [==============================] - 0s 12ms/step - loss: 0.0015 - accuracy: 0.0049 - val_loss: 0.0027 - val_accuracy: 0.0000e+00\n",
      "Epoch 45/50\n",
      "13/13 [==============================] - 0s 12ms/step - loss: 0.0018 - accuracy: 0.0049 - val_loss: 0.0038 - val_accuracy: 0.0000e+00\n",
      "Epoch 46/50\n",
      "13/13 [==============================] - 0s 12ms/step - loss: 0.0020 - accuracy: 0.0049 - val_loss: 0.0042 - val_accuracy: 0.0000e+00\n",
      "Epoch 47/50\n",
      "13/13 [==============================] - 0s 12ms/step - loss: 0.0017 - accuracy: 0.0049 - val_loss: 0.0029 - val_accuracy: 0.0000e+00\n",
      "Epoch 48/50\n",
      "13/13 [==============================] - 0s 12ms/step - loss: 0.0016 - accuracy: 0.0049 - val_loss: 0.0030 - val_accuracy: 0.0000e+00\n",
      "Epoch 49/50\n",
      "13/13 [==============================] - 0s 12ms/step - loss: 0.0016 - accuracy: 0.0049 - val_loss: 0.0035 - val_accuracy: 0.0000e+00\n",
      "Epoch 50/50\n",
      "13/13 [==============================] - 0s 12ms/step - loss: 0.0015 - accuracy: 0.0049 - val_loss: 0.0062 - val_accuracy: 0.0000e+00\n",
      "Best epoch: 1\n",
      "Model: \"sequential_2\"\n",
      "_________________________________________________________________\n",
      " Layer (type)                Output Shape              Param #   \n",
      "=================================================================\n",
      " lstm_6 (LSTM)               (None, 10, 66)            17952     \n",
      "                                                                 \n",
      " dropout_6 (Dropout)         (None, 10, 66)            0         \n",
      "                                                                 \n",
      " lstm_7 (LSTM)               (None, 10, 66)            35112     \n",
      "                                                                 \n",
      " dropout_7 (Dropout)         (None, 10, 66)            0         \n",
      "                                                                 \n",
      " lstm_8 (LSTM)               (None, 66)                35112     \n",
      "                                                                 \n",
      " dropout_8 (Dropout)         (None, 66)                0         \n",
      "                                                                 \n",
      " dense_2 (Dense)             (None, 1)                 67        \n",
      "                                                                 \n",
      "=================================================================\n",
      "Total params: 88,243\n",
      "Trainable params: 88,243\n",
      "Non-trainable params: 0\n",
      "_________________________________________________________________\n",
      "13/13 [==============================] - 5s 97ms/step - loss: 0.0302 - accuracy: 0.0049 - val_loss: 0.0061 - val_accuracy: 0.0000e+00\n"
     ]
    },
    {
     "data": {
      "text/plain": "<keras.callbacks.History at 0x7fc9ab917850>"
     },
     "execution_count": 322,
     "metadata": {},
     "output_type": "execute_result"
    }
   ],
   "source": [
    "model = tuner.hypermodel.build(best_hps)\n",
    "history = model.fit(X_train, y_train, epochs=50, validation_split=0.2)\n",
    "\n",
    "val_acc_per_epoch = history.history['val_accuracy']\n",
    "best_epoch = val_acc_per_epoch.index(max(val_acc_per_epoch)) + 1\n",
    "print('Best epoch: %d' % (best_epoch,))\n",
    "\n",
    "hypermodel = tuner.hypermodel.build(best_hps)\n",
    "\n",
    "# Retrain the model\n",
    "hypermodel.fit(X_train, y_train, epochs=best_epoch, validation_split=0.2)"
   ]
  },
  {
   "cell_type": "markdown",
   "metadata": {},
   "source": [
    "---\n",
    "## Model Performance\n",
    "\n",
    "In this section, we will evaluate the model using the test data. \n",
    "\n",
    "We will need to:\n",
    "\n",
    "1. Evaluate the model using the `X_test` and `y_test` data.\n",
    "\n",
    "2. Use the `X_test` data to make predictions.\n",
    "\n",
    "3. Create a DataFrame of real (`y_test`) vs predicted values.\n",
    "\n",
    "4. Plot the Real vs predicted values as a line chart."
   ]
  },
  {
   "cell_type": "markdown",
   "metadata": {},
   "source": [
    "### Evaluate the Model\n",
    "\n",
    "It's time to evaluate our model to assess its performance. We will use the `evaluate` method using the testing data."
   ]
  },
  {
   "cell_type": "code",
   "execution_count": 323,
   "metadata": {},
   "outputs": [
    {
     "name": "stdout",
     "output_type": "stream",
     "text": [
      "7/7 [==============================] - 0s 3ms/step - loss: 0.0061 - accuracy: 0.0000e+00\n",
      "[test loss, test accuracy]: [0.006057047285139561, 0.0]\n"
     ]
    }
   ],
   "source": [
    "# Evaluate the model\n",
    "eval_result = hypermodel.evaluate(X_test, y_test)\n",
    "print(\"[test loss, test accuracy]:\", eval_result)\n",
    "\n",
    "\n",
    "#model.evaluate(X_test, y_test)"
   ]
  },
  {
   "cell_type": "markdown",
   "metadata": {},
   "source": [
    "### Making Predictions\n",
    "\n",
    "We will make some closing price predictions using our brand new LSTM RNN model and our testing data."
   ]
  },
  {
   "cell_type": "code",
   "execution_count": 324,
   "metadata": {},
   "outputs": [],
   "source": [
    "# Make some predictions\n",
    "predicted = hypermodel.predict(X_test)"
   ]
  },
  {
   "cell_type": "markdown",
   "metadata": {},
   "source": [
    "Since we scaled the original values using the `MinMaxScaler`, we need to recover the original prices to better understand the predictions.\n",
    "\n",
    "We will use the `inverse_transform()` method of the scaler to decode the scaled values to their original scale."
   ]
  },
  {
   "cell_type": "code",
   "execution_count": 325,
   "metadata": {},
   "outputs": [],
   "source": [
    "# Recover the original prices instead of the scaled version\n",
    "predicted_prices = scaler.inverse_transform(predicted)\n",
    "real_prices = scaler.inverse_transform(y_test.reshape(-1, 1))"
   ]
  },
  {
   "cell_type": "markdown",
   "metadata": {},
   "source": [
    "### Plotting Predicted Vs. Real Prices\n",
    "\n",
    "To plot the predicted vs. the real values, we will create a DataFrame."
   ]
  },
  {
   "cell_type": "code",
   "execution_count": 326,
   "metadata": {},
   "outputs": [
    {
     "data": {
      "text/plain": "                   Real    Predicted\nDate                                \n2021-09-01  3834.828125  3169.086426\n2021-09-02  3790.989990  3178.860107\n2021-09-03  3940.614746  3190.385986\n2021-09-04  3887.828369  3238.222168\n2021-09-05  3952.133545  3293.350830",
      "text/html": "<div>\n<style scoped>\n    .dataframe tbody tr th:only-of-type {\n        vertical-align: middle;\n    }\n\n    .dataframe tbody tr th {\n        vertical-align: top;\n    }\n\n    .dataframe thead th {\n        text-align: right;\n    }\n</style>\n<table border=\"1\" class=\"dataframe\">\n  <thead>\n    <tr style=\"text-align: right;\">\n      <th></th>\n      <th>Real</th>\n      <th>Predicted</th>\n    </tr>\n    <tr>\n      <th>Date</th>\n      <th></th>\n      <th></th>\n    </tr>\n  </thead>\n  <tbody>\n    <tr>\n      <th>2021-09-01</th>\n      <td>3834.828125</td>\n      <td>3169.086426</td>\n    </tr>\n    <tr>\n      <th>2021-09-02</th>\n      <td>3790.989990</td>\n      <td>3178.860107</td>\n    </tr>\n    <tr>\n      <th>2021-09-03</th>\n      <td>3940.614746</td>\n      <td>3190.385986</td>\n    </tr>\n    <tr>\n      <th>2021-09-04</th>\n      <td>3887.828369</td>\n      <td>3238.222168</td>\n    </tr>\n    <tr>\n      <th>2021-09-05</th>\n      <td>3952.133545</td>\n      <td>3293.350830</td>\n    </tr>\n  </tbody>\n</table>\n</div>"
     },
     "execution_count": 326,
     "metadata": {},
     "output_type": "execute_result"
    }
   ],
   "source": [
    "# Create a DataFrame of Real and Predicted values\n",
    "stocks = pd.DataFrame({\n",
    "    \"Real\": real_prices.ravel(),\n",
    "    \"Predicted\": predicted_prices.ravel()\n",
    "    }, index = df.index[-len(real_prices): ])\n",
    "stocks.head()"
   ]
  },
  {
   "cell_type": "code",
   "execution_count": 327,
   "metadata": {},
   "outputs": [
    {
     "data": {
      "text/plain": "<AxesSubplot:xlabel='Date'>"
     },
     "execution_count": 327,
     "metadata": {},
     "output_type": "execute_result"
    },
    {
     "data": {
      "text/plain": "<Figure size 432x288 with 1 Axes>",
      "image/png": "[encoded data removed]"
     },
     "metadata": {
      "needs_background": "light"
     },
     "output_type": "display_data"
    }
   ],
   "source": [
    "# Plot the real vs predicted prices as a line chart\n",
    "stocks.plot()"
   ]
  }
 ],
 "metadata": {
  "file_extension": ".py",
  "kernelspec": {
   "display_name": "Python [conda env:alpacaenv] *",
   "language": "python",
   "name": "conda-env-alpacaenv-py"
  },
  "language_info": {
   "codemirror_mode": {
    "name": "ipython",
    "version": 3
   },
   "file_extension": ".py",
   "mimetype": "text/x-python",
   "name": "python",
   "nbconvert_exporter": "python",
   "pygments_lexer": "ipython3",
   "version": "3.7.12"
  },
  "mimetype": "text/x-python",
  "name": "python",
  "npconvert_exporter": "python",
  "pygments_lexer": "ipython3",
  "version": 3
 },
 "nbformat": 4,
 "nbformat_minor": 4
}