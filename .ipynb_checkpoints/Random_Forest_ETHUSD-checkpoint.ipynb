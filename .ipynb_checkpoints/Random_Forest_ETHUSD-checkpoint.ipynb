{
 "cells": [
  {
   "cell_type": "code",
   "execution_count": 29,
   "id": "643992cb-f64f-4506-8715-9fb113275ed9",
   "metadata": {},
   "outputs": [],
   "source": [
    "import yfinance as yf\n",
    "import pandas as pd\n",
    "import numpy as np\n",
    "from numpy import arange\n",
    "import matplotlib.pyplot as plt\n",
    "from pandas import read_csv\n",
    "from sklearn import metrics\n",
    "from sklearn.model_selection import train_test_split\n",
    "from sklearn.ensemble import RandomForestRegressor\n",
    "from sklearn.preprocessing import StandardScaler\n",
    "from sklearn.model_selection import RandomizedSearchCV\n",
    "import hvplot.pandas"
   ]
  },
  {
   "cell_type": "code",
   "execution_count": 2,
   "id": "0e8fbbdb-646d-46c7-9a6b-f50924a8847d",
   "metadata": {},
   "outputs": [
    {
     "name": "stdout",
     "output_type": "stream",
     "text": [
      "[*********************100%***********************]  1 of 1 completed\n"
     ]
    }
   ],
   "source": [
    "ethdata = yf.download(\"ETH-USD\", start=\"2020-04-08\", end=\"2022-04-08\")\n",
    "eth_df = pd.DataFrame(ethdata)\n",
    "eth_df.to_csv(\"eth_data.csv\")"
   ]
  },
  {
   "cell_type": "code",
   "execution_count": 3,
   "id": "bd3cf1aa-c2ef-4ddc-8594-e6fbc19b3d98",
   "metadata": {},
   "outputs": [
    {
     "data": {
      "text/html": [
       "<div>\n",
       "<style scoped>\n",
       "    .dataframe tbody tr th:only-of-type {\n",
       "        vertical-align: middle;\n",
       "    }\n",
       "\n",
       "    .dataframe tbody tr th {\n",
       "        vertical-align: top;\n",
       "    }\n",
       "\n",
       "    .dataframe thead th {\n",
       "        text-align: right;\n",
       "    }\n",
       "</style>\n",
       "<table border=\"1\" class=\"dataframe\">\n",
       "  <thead>\n",
       "    <tr style=\"text-align: right;\">\n",
       "      <th></th>\n",
       "      <th>Open</th>\n",
       "      <th>High</th>\n",
       "      <th>Low</th>\n",
       "      <th>Close</th>\n",
       "      <th>Adj Close</th>\n",
       "      <th>Volume</th>\n",
       "    </tr>\n",
       "    <tr>\n",
       "      <th>Date</th>\n",
       "      <th></th>\n",
       "      <th></th>\n",
       "      <th></th>\n",
       "      <th></th>\n",
       "      <th></th>\n",
       "      <th></th>\n",
       "    </tr>\n",
       "  </thead>\n",
       "  <tbody>\n",
       "    <tr>\n",
       "      <th>2020-04-08</th>\n",
       "      <td>165.240326</td>\n",
       "      <td>173.210266</td>\n",
       "      <td>164.493195</td>\n",
       "      <td>172.641739</td>\n",
       "      <td>172.641739</td>\n",
       "      <td>17063110836</td>\n",
       "    </tr>\n",
       "    <tr>\n",
       "      <th>2020-04-09</th>\n",
       "      <td>172.761261</td>\n",
       "      <td>172.897781</td>\n",
       "      <td>167.987122</td>\n",
       "      <td>170.807144</td>\n",
       "      <td>170.807144</td>\n",
       "      <td>14901696210</td>\n",
       "    </tr>\n",
       "    <tr>\n",
       "      <th>2020-04-10</th>\n",
       "      <td>170.829269</td>\n",
       "      <td>170.949768</td>\n",
       "      <td>154.914474</td>\n",
       "      <td>158.412445</td>\n",
       "      <td>158.412445</td>\n",
       "      <td>17980944616</td>\n",
       "    </tr>\n",
       "    <tr>\n",
       "      <th>2020-04-11</th>\n",
       "      <td>158.538986</td>\n",
       "      <td>161.167572</td>\n",
       "      <td>155.298340</td>\n",
       "      <td>158.216019</td>\n",
       "      <td>158.216019</td>\n",
       "      <td>13555089447</td>\n",
       "    </tr>\n",
       "    <tr>\n",
       "      <th>2020-04-12</th>\n",
       "      <td>158.232391</td>\n",
       "      <td>164.516953</td>\n",
       "      <td>156.320511</td>\n",
       "      <td>161.142426</td>\n",
       "      <td>161.142426</td>\n",
       "      <td>15123721386</td>\n",
       "    </tr>\n",
       "  </tbody>\n",
       "</table>\n",
       "</div>"
      ],
      "text/plain": [
       "                  Open        High         Low       Close   Adj Close  \\\n",
       "Date                                                                     \n",
       "2020-04-08  165.240326  173.210266  164.493195  172.641739  172.641739   \n",
       "2020-04-09  172.761261  172.897781  167.987122  170.807144  170.807144   \n",
       "2020-04-10  170.829269  170.949768  154.914474  158.412445  158.412445   \n",
       "2020-04-11  158.538986  161.167572  155.298340  158.216019  158.216019   \n",
       "2020-04-12  158.232391  164.516953  156.320511  161.142426  161.142426   \n",
       "\n",
       "                 Volume  \n",
       "Date                     \n",
       "2020-04-08  17063110836  \n",
       "2020-04-09  14901696210  \n",
       "2020-04-10  17980944616  \n",
       "2020-04-11  13555089447  \n",
       "2020-04-12  15123721386  "
      ]
     },
     "execution_count": 3,
     "metadata": {},
     "output_type": "execute_result"
    }
   ],
   "source": [
    "eth_df.head()"
   ]
  },
  {
   "cell_type": "code",
   "execution_count": 4,
   "id": "486102d0-d6ee-4710-95e2-9befd4dfe2cb",
   "metadata": {},
   "outputs": [
    {
     "data": {
      "text/html": [
       "<div>\n",
       "<style scoped>\n",
       "    .dataframe tbody tr th:only-of-type {\n",
       "        vertical-align: middle;\n",
       "    }\n",
       "\n",
       "    .dataframe tbody tr th {\n",
       "        vertical-align: top;\n",
       "    }\n",
       "\n",
       "    .dataframe thead th {\n",
       "        text-align: right;\n",
       "    }\n",
       "</style>\n",
       "<table border=\"1\" class=\"dataframe\">\n",
       "  <thead>\n",
       "    <tr style=\"text-align: right;\">\n",
       "      <th></th>\n",
       "      <th>Close</th>\n",
       "    </tr>\n",
       "    <tr>\n",
       "      <th>Date</th>\n",
       "      <th></th>\n",
       "    </tr>\n",
       "  </thead>\n",
       "  <tbody>\n",
       "    <tr>\n",
       "      <th>2020-04-08</th>\n",
       "      <td>172.641739</td>\n",
       "    </tr>\n",
       "    <tr>\n",
       "      <th>2020-04-09</th>\n",
       "      <td>170.807144</td>\n",
       "    </tr>\n",
       "    <tr>\n",
       "      <th>2020-04-10</th>\n",
       "      <td>158.412445</td>\n",
       "    </tr>\n",
       "    <tr>\n",
       "      <th>2020-04-11</th>\n",
       "      <td>158.216019</td>\n",
       "    </tr>\n",
       "    <tr>\n",
       "      <th>2020-04-12</th>\n",
       "      <td>161.142426</td>\n",
       "    </tr>\n",
       "  </tbody>\n",
       "</table>\n",
       "</div>"
      ],
      "text/plain": [
       "                 Close\n",
       "Date                  \n",
       "2020-04-08  172.641739\n",
       "2020-04-09  170.807144\n",
       "2020-04-10  158.412445\n",
       "2020-04-11  158.216019\n",
       "2020-04-12  161.142426"
      ]
     },
     "execution_count": 4,
     "metadata": {},
     "output_type": "execute_result"
    }
   ],
   "source": [
    "eth_close = eth_df[['Close']]\n",
    "eth_close.head()"
   ]
  },
  {
   "cell_type": "code",
   "execution_count": 5,
   "id": "c54a0f82-08af-48b0-81c0-25e5e380b0de",
   "metadata": {},
   "outputs": [
    {
     "data": {},
     "metadata": {},
     "output_type": "display_data"
    },
    {
     "data": {
      "application/vnd.holoviews_exec.v0+json": "",
      "text/html": [
       "<div id='1002'>\n",
       "\n",
       "\n",
       "\n",
       "\n",
       "\n",
       "  <div class=\"bk-root\" id=\"613b9519-f7fc-4792-9604-62aeeed561a0\" data-root-id=\"1002\"></div>\n",
       "</div>\n",
       "<script type=\"application/javascript\">(function(root) {\n",
       "  function embed_document(root) {\n",
       "    var docs_json = {\"fe475a04-0f15-4748-9779-f1f0be4f62ae\":{\"defs\":[{\"extends\":null,\"module\":null,\"name\":\"ReactiveHTML1\",\"overrides\":[],\"properties\":[]},{\"extends\":null,\"module\":null,\"name\":\"FlexBox1\",\"overrides\":[],\"properties\":[{\"default\":\"flex-start\",\"kind\":null,\"name\":\"align_content\"},{\"default\":\"flex-start\",\"kind\":null,\"name\":\"align_items\"},{\"default\":\"row\",\"kind\":null,\"name\":\"flex_direction\"},{\"default\":\"wrap\",\"kind\":null,\"name\":\"flex_wrap\"},{\"default\":\"flex-start\",\"kind\":null,\"name\":\"justify_content\"}]},{\"extends\":null,\"module\":null,\"name\":\"TemplateActions1\",\"overrides\":[],\"properties\":[{\"default\":0,\"kind\":null,\"name\":\"open_modal\"},{\"default\":0,\"kind\":null,\"name\":\"close_modal\"}]},{\"extends\":null,\"module\":null,\"name\":\"MaterialTemplateActions1\",\"overrides\":[],\"properties\":[{\"default\":0,\"kind\":null,\"name\":\"open_modal\"},{\"default\":0,\"kind\":null,\"name\":\"close_modal\"}]}],\"roots\":{\"references\":[{\"attributes\":{\"days\":[1,4,7,10,13,16,19,22,25,28]},\"id\":\"1066\",\"type\":\"DaysTicker\"},{\"attributes\":{},\"id\":\"1014\",\"type\":\"LinearScale\"},{\"attributes\":{\"coordinates\":null,\"data_source\":{\"id\":\"1037\"},\"glyph\":{\"id\":\"1040\"},\"group\":null,\"hover_glyph\":null,\"muted_glyph\":{\"id\":\"1042\"},\"nonselection_glyph\":{\"id\":\"1041\"},\"selection_glyph\":{\"id\":\"1045\"},\"view\":{\"id\":\"1044\"}},\"id\":\"1043\",\"type\":\"GlyphRenderer\"},{\"attributes\":{\"line_color\":\"#30a2da\",\"line_width\":2,\"x\":{\"field\":\"Date\"},\"y\":{\"field\":\"Close\"}},\"id\":\"1045\",\"type\":\"Line\"},{\"attributes\":{\"days\":[1,2,3,4,5,6,7,8,9,10,11,12,13,14,15,16,17,18,19,20,21,22,23,24,25,26,27,28,29,30,31]},\"id\":\"1065\",\"type\":\"DaysTicker\"},{\"attributes\":{\"coordinates\":null,\"group\":null,\"text\":\"ETH-USD\",\"text_color\":\"black\",\"text_font_size\":\"12pt\"},\"id\":\"1008\",\"type\":\"Title\"},{\"attributes\":{\"data\":{\"Close\":{\"__ndarray__\":\"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\",\"dtype\":\"float64\",\"order\":\"little\",\"shape\":[731]},\"Date\":{\"__ndarray__\":\"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\",\"dtype\":\"float64\",\"order\":\"little\",\"shape\":[731]}},\"selected\":{\"id\":\"1038\"},\"selection_policy\":{\"id\":\"1059\"}},\"id\":\"1037\",\"type\":\"ColumnDataSource\"},{\"attributes\":{},\"id\":\"1024\",\"type\":\"SaveTool\"},{\"attributes\":{},\"id\":\"1047\",\"type\":\"DatetimeTickFormatter\"},{\"attributes\":{},\"id\":\"1025\",\"type\":\"PanTool\"},{\"attributes\":{\"months\":[0,1,2,3,4,5,6,7,8,9,10,11]},\"id\":\"1069\",\"type\":\"MonthsTicker\"},{\"attributes\":{},\"id\":\"1028\",\"type\":\"ResetTool\"},{\"attributes\":{},\"id\":\"1051\",\"type\":\"AllLabels\"},{\"attributes\":{},\"id\":\"1026\",\"type\":\"WheelZoomTool\"},{\"attributes\":{\"days\":[1,8,15,22]},\"id\":\"1067\",\"type\":\"DaysTicker\"},{\"attributes\":{\"days\":[1,15]},\"id\":\"1068\",\"type\":\"DaysTicker\"},{\"attributes\":{\"end\":1649376000000.0,\"reset_end\":1649376000000.0,\"reset_start\":1586304000000.0,\"start\":1586304000000.0,\"tags\":[[[\"Date\",\"Date\",null]]]},\"id\":\"1004\",\"type\":\"Range1d\"},{\"attributes\":{\"overlay\":{\"id\":\"1029\"}},\"id\":\"1027\",\"type\":\"BoxZoomTool\"},{\"attributes\":{\"line_color\":\"#30a2da\",\"line_width\":2,\"x\":{\"field\":\"Date\"},\"y\":{\"field\":\"Close\"}},\"id\":\"1040\",\"type\":\"Line\"},{\"attributes\":{\"source\":{\"id\":\"1037\"}},\"id\":\"1044\",\"type\":\"CDSView\"},{\"attributes\":{},\"id\":\"1059\",\"type\":\"UnionRenderers\"},{\"attributes\":{\"months\":[0,2,4,6,8,10]},\"id\":\"1070\",\"type\":\"MonthsTicker\"},{\"attributes\":{\"line_alpha\":0.2,\"line_color\":\"#30a2da\",\"line_width\":2,\"x\":{\"field\":\"Date\"},\"y\":{\"field\":\"Close\"}},\"id\":\"1042\",\"type\":\"Line\"},{\"attributes\":{\"bottom_units\":\"screen\",\"coordinates\":null,\"fill_alpha\":0.5,\"fill_color\":\"lightgrey\",\"group\":null,\"left_units\":\"screen\",\"level\":\"overlay\",\"line_alpha\":1.0,\"line_color\":\"black\",\"line_dash\":[4,4],\"line_width\":2,\"right_units\":\"screen\",\"syncable\":false,\"top_units\":\"screen\"},\"id\":\"1029\",\"type\":\"BoxAnnotation\"},{\"attributes\":{\"num_minor_ticks\":5,\"tickers\":[{\"id\":\"1062\"},{\"id\":\"1063\"},{\"id\":\"1064\"},{\"id\":\"1065\"},{\"id\":\"1066\"},{\"id\":\"1067\"},{\"id\":\"1068\"},{\"id\":\"1069\"},{\"id\":\"1070\"},{\"id\":\"1071\"},{\"id\":\"1072\"},{\"id\":\"1073\"}]},\"id\":\"1017\",\"type\":\"DatetimeTicker\"},{\"attributes\":{\"months\":[0,4,8]},\"id\":\"1071\",\"type\":\"MonthsTicker\"},{\"attributes\":{\"tools\":[{\"id\":\"1006\"},{\"id\":\"1024\"},{\"id\":\"1025\"},{\"id\":\"1026\"},{\"id\":\"1027\"},{\"id\":\"1028\"}]},\"id\":\"1030\",\"type\":\"Toolbar\"},{\"attributes\":{},\"id\":\"1048\",\"type\":\"AllLabels\"},{\"attributes\":{\"below\":[{\"id\":\"1016\"}],\"center\":[{\"id\":\"1019\"},{\"id\":\"1023\"}],\"height\":300,\"left\":[{\"id\":\"1020\"}],\"margin\":[5,5,5,5],\"min_border_bottom\":10,\"min_border_left\":10,\"min_border_right\":10,\"min_border_top\":10,\"renderers\":[{\"id\":\"1043\"}],\"sizing_mode\":\"fixed\",\"title\":{\"id\":\"1008\"},\"toolbar\":{\"id\":\"1030\"},\"width\":700,\"x_range\":{\"id\":\"1004\"},\"x_scale\":{\"id\":\"1012\"},\"y_range\":{\"id\":\"1005\"},\"y_scale\":{\"id\":\"1014\"}},\"id\":\"1007\",\"subtype\":\"Figure\",\"type\":\"Plot\"},{\"attributes\":{},\"id\":\"1021\",\"type\":\"BasicTicker\"},{\"attributes\":{\"axis_label\":\"Date\",\"coordinates\":null,\"formatter\":{\"id\":\"1047\"},\"group\":null,\"major_label_policy\":{\"id\":\"1048\"},\"ticker\":{\"id\":\"1017\"}},\"id\":\"1016\",\"type\":\"DatetimeAxis\"},{\"attributes\":{},\"id\":\"1038\",\"type\":\"Selection\"},{\"attributes\":{\"months\":[0,6]},\"id\":\"1072\",\"type\":\"MonthsTicker\"},{\"attributes\":{\"margin\":[5,5,5,5],\"name\":\"HSpacer01630\",\"sizing_mode\":\"stretch_width\"},\"id\":\"1003\",\"type\":\"Spacer\"},{\"attributes\":{\"axis_label\":\"Close\",\"coordinates\":null,\"formatter\":{\"id\":\"1050\"},\"group\":null,\"major_label_policy\":{\"id\":\"1051\"},\"ticker\":{\"id\":\"1021\"}},\"id\":\"1020\",\"type\":\"LinearAxis\"},{\"attributes\":{\"axis\":{\"id\":\"1016\"},\"coordinates\":null,\"grid_line_color\":null,\"group\":null,\"ticker\":null},\"id\":\"1019\",\"type\":\"Grid\"},{\"attributes\":{},\"id\":\"1050\",\"type\":\"BasicTickFormatter\"},{\"attributes\":{},\"id\":\"1012\",\"type\":\"LinearScale\"},{\"attributes\":{\"children\":[{\"id\":\"1003\"},{\"id\":\"1007\"},{\"id\":\"1096\"}],\"margin\":[0,0,0,0],\"name\":\"Row01626\",\"tags\":[\"embedded\"]},\"id\":\"1002\",\"type\":\"Row\"},{\"attributes\":{},\"id\":\"1073\",\"type\":\"YearsTicker\"},{\"attributes\":{\"axis\":{\"id\":\"1020\"},\"coordinates\":null,\"dimension\":1,\"grid_line_color\":null,\"group\":null,\"ticker\":null},\"id\":\"1023\",\"type\":\"Grid\"},{\"attributes\":{\"mantissas\":[1,2,5],\"max_interval\":500.0,\"num_minor_ticks\":0},\"id\":\"1062\",\"type\":\"AdaptiveTicker\"},{\"attributes\":{\"margin\":[5,5,5,5],\"name\":\"HSpacer01631\",\"sizing_mode\":\"stretch_width\"},\"id\":\"1096\",\"type\":\"Spacer\"},{\"attributes\":{\"end\":5277.96745300293,\"reset_end\":5277.96745300293,\"reset_start\":-312.59315490722656,\"start\":-312.59315490722656,\"tags\":[[[\"Close\",\"Close\",null]]]},\"id\":\"1005\",\"type\":\"Range1d\"},{\"attributes\":{\"callback\":null,\"formatters\":{\"@{Date}\":\"datetime\"},\"renderers\":[{\"id\":\"1043\"}],\"tags\":[\"hv_created\"],\"tooltips\":[[\"Date\",\"@{Date}{%F %T}\"],[\"Close\",\"@{Close}\"]]},\"id\":\"1006\",\"type\":\"HoverTool\"},{\"attributes\":{\"base\":60,\"mantissas\":[1,2,5,10,15,20,30],\"max_interval\":1800000.0,\"min_interval\":1000.0,\"num_minor_ticks\":0},\"id\":\"1063\",\"type\":\"AdaptiveTicker\"},{\"attributes\":{\"base\":24,\"mantissas\":[1,2,4,6,8,12],\"max_interval\":43200000.0,\"min_interval\":3600000.0,\"num_minor_ticks\":0},\"id\":\"1064\",\"type\":\"AdaptiveTicker\"},{\"attributes\":{\"line_alpha\":0.1,\"line_color\":\"#30a2da\",\"line_width\":2,\"x\":{\"field\":\"Date\"},\"y\":{\"field\":\"Close\"}},\"id\":\"1041\",\"type\":\"Line\"}],\"root_ids\":[\"1002\"]},\"title\":\"Bokeh Application\",\"version\":\"2.4.2\"}};\n",
       "    var render_items = [{\"docid\":\"fe475a04-0f15-4748-9779-f1f0be4f62ae\",\"root_ids\":[\"1002\"],\"roots\":{\"1002\":\"613b9519-f7fc-4792-9604-62aeeed561a0\"}}];\n",
       "    root.Bokeh.embed.embed_items_notebook(docs_json, render_items);\n",
       "  }\n",
       "  if (root.Bokeh !== undefined && root.Bokeh.Panel !== undefined) {\n",
       "    embed_document(root);\n",
       "  } else {\n",
       "    var attempts = 0;\n",
       "    var timer = setInterval(function(root) {\n",
       "      if (root.Bokeh !== undefined && root.Bokeh.Panel !== undefined) {\n",
       "        clearInterval(timer);\n",
       "        embed_document(root);\n",
       "      } else if (document.readyState == \"complete\") {\n",
       "        attempts++;\n",
       "        if (attempts > 200) {\n",
       "          clearInterval(timer);\n",
       "          console.log(\"Bokeh: ERROR: Unable to run BokehJS code because BokehJS library is missing\");\n",
       "        }\n",
       "      }\n",
       "    }, 25, root)\n",
       "  }\n",
       "})(window);</script>"
      ],
      "text/plain": [
       ":Curve   [Date]   (Close)"
      ]
     },
     "execution_count": 5,
     "metadata": {
      "application/vnd.holoviews_exec.v0+json": {
       "id": "1002"
      }
     },
     "output_type": "execute_result"
    }
   ],
   "source": [
    "eth_close.hvplot(title='ETH-USD', figsize=(16,8))"
   ]
  },
  {
   "cell_type": "code",
   "execution_count": 6,
   "id": "2859fa70-467f-47e4-81b6-5a541c6e6676",
   "metadata": {},
   "outputs": [
    {
     "data": {
      "text/html": [
       "<div>\n",
       "<style scoped>\n",
       "    .dataframe tbody tr th:only-of-type {\n",
       "        vertical-align: middle;\n",
       "    }\n",
       "\n",
       "    .dataframe tbody tr th {\n",
       "        vertical-align: top;\n",
       "    }\n",
       "\n",
       "    .dataframe thead th {\n",
       "        text-align: right;\n",
       "    }\n",
       "</style>\n",
       "<table border=\"1\" class=\"dataframe\">\n",
       "  <thead>\n",
       "    <tr style=\"text-align: right;\">\n",
       "      <th></th>\n",
       "      <th>Open</th>\n",
       "      <th>High</th>\n",
       "      <th>Low</th>\n",
       "      <th>Close</th>\n",
       "    </tr>\n",
       "    <tr>\n",
       "      <th>Date</th>\n",
       "      <th></th>\n",
       "      <th></th>\n",
       "      <th></th>\n",
       "      <th></th>\n",
       "    </tr>\n",
       "  </thead>\n",
       "  <tbody>\n",
       "    <tr>\n",
       "      <th>2020-04-08</th>\n",
       "      <td>165.240326</td>\n",
       "      <td>173.210266</td>\n",
       "      <td>164.493195</td>\n",
       "      <td>172.641739</td>\n",
       "    </tr>\n",
       "    <tr>\n",
       "      <th>2020-04-09</th>\n",
       "      <td>172.761261</td>\n",
       "      <td>172.897781</td>\n",
       "      <td>167.987122</td>\n",
       "      <td>170.807144</td>\n",
       "    </tr>\n",
       "    <tr>\n",
       "      <th>2020-04-10</th>\n",
       "      <td>170.829269</td>\n",
       "      <td>170.949768</td>\n",
       "      <td>154.914474</td>\n",
       "      <td>158.412445</td>\n",
       "    </tr>\n",
       "    <tr>\n",
       "      <th>2020-04-11</th>\n",
       "      <td>158.538986</td>\n",
       "      <td>161.167572</td>\n",
       "      <td>155.298340</td>\n",
       "      <td>158.216019</td>\n",
       "    </tr>\n",
       "    <tr>\n",
       "      <th>2020-04-12</th>\n",
       "      <td>158.232391</td>\n",
       "      <td>164.516953</td>\n",
       "      <td>156.320511</td>\n",
       "      <td>161.142426</td>\n",
       "    </tr>\n",
       "  </tbody>\n",
       "</table>\n",
       "</div>"
      ],
      "text/plain": [
       "                  Open        High         Low       Close\n",
       "Date                                                      \n",
       "2020-04-08  165.240326  173.210266  164.493195  172.641739\n",
       "2020-04-09  172.761261  172.897781  167.987122  170.807144\n",
       "2020-04-10  170.829269  170.949768  154.914474  158.412445\n",
       "2020-04-11  158.538986  161.167572  155.298340  158.216019\n",
       "2020-04-12  158.232391  164.516953  156.320511  161.142426"
      ]
     },
     "execution_count": 6,
     "metadata": {},
     "output_type": "execute_result"
    }
   ],
   "source": [
    "# From original data, drop just Volume and Adj Close to test which features are more important\n",
    "# Adj Close accounts for value after dividends are paid out, which ETH does not do. This is geared towards stock data.\n",
    "eth_df.drop(['Adj Close', 'Volume'], axis='columns', inplace=True)\n",
    "eth_df.head(5)"
   ]
  },
  {
   "cell_type": "code",
   "execution_count": 7,
   "id": "f54fc9f8-bac2-4859-a461-d92ba8205cad",
   "metadata": {},
   "outputs": [
    {
     "data": {
      "text/html": [
       "<div>\n",
       "<style scoped>\n",
       "    .dataframe tbody tr th:only-of-type {\n",
       "        vertical-align: middle;\n",
       "    }\n",
       "\n",
       "    .dataframe tbody tr th {\n",
       "        vertical-align: top;\n",
       "    }\n",
       "\n",
       "    .dataframe thead th {\n",
       "        text-align: right;\n",
       "    }\n",
       "</style>\n",
       "<table border=\"1\" class=\"dataframe\">\n",
       "  <thead>\n",
       "    <tr style=\"text-align: right;\">\n",
       "      <th></th>\n",
       "      <th>Open</th>\n",
       "      <th>High</th>\n",
       "      <th>Low</th>\n",
       "    </tr>\n",
       "    <tr>\n",
       "      <th>Date</th>\n",
       "      <th></th>\n",
       "      <th></th>\n",
       "      <th></th>\n",
       "    </tr>\n",
       "  </thead>\n",
       "  <tbody>\n",
       "    <tr>\n",
       "      <th>2022-04-04</th>\n",
       "      <td>3522.364990</td>\n",
       "      <td>3535.148193</td>\n",
       "      <td>3422.000977</td>\n",
       "    </tr>\n",
       "    <tr>\n",
       "      <th>2022-04-05</th>\n",
       "      <td>3521.239746</td>\n",
       "      <td>3546.706787</td>\n",
       "      <td>3410.547607</td>\n",
       "    </tr>\n",
       "    <tr>\n",
       "      <th>2022-04-06</th>\n",
       "      <td>3411.672119</td>\n",
       "      <td>3411.672119</td>\n",
       "      <td>3171.205078</td>\n",
       "    </tr>\n",
       "    <tr>\n",
       "      <th>2022-04-07</th>\n",
       "      <td>3172.197266</td>\n",
       "      <td>3263.474609</td>\n",
       "      <td>3155.581055</td>\n",
       "    </tr>\n",
       "    <tr>\n",
       "      <th>2022-04-08</th>\n",
       "      <td>3233.272461</td>\n",
       "      <td>3301.607422</td>\n",
       "      <td>3179.142334</td>\n",
       "    </tr>\n",
       "  </tbody>\n",
       "</table>\n",
       "</div>"
      ],
      "text/plain": [
       "                   Open         High          Low\n",
       "Date                                             \n",
       "2022-04-04  3522.364990  3535.148193  3422.000977\n",
       "2022-04-05  3521.239746  3546.706787  3410.547607\n",
       "2022-04-06  3411.672119  3411.672119  3171.205078\n",
       "2022-04-07  3172.197266  3263.474609  3155.581055\n",
       "2022-04-08  3233.272461  3301.607422  3179.142334"
      ]
     },
     "execution_count": 7,
     "metadata": {},
     "output_type": "execute_result"
    }
   ],
   "source": [
    "# Define features set\n",
    "X = eth_df.copy()\n",
    "X.drop(\"Close\", axis=1, inplace=True)\n",
    "X.tail(5)"
   ]
  },
  {
   "cell_type": "code",
   "execution_count": 8,
   "id": "985d88f0-3b66-4750-b410-febb5a660d35",
   "metadata": {},
   "outputs": [
    {
     "data": {
      "text/plain": [
       "array([172.64173889, 170.80714417, 158.41244507, 158.21601868,\n",
       "       161.14242554])"
      ]
     },
     "execution_count": 8,
     "metadata": {},
     "output_type": "execute_result"
    }
   ],
   "source": [
    "# Define target vector\n",
    "y = eth_df[\"Close\"].ravel()\n",
    "y[:5]"
   ]
  },
  {
   "cell_type": "code",
   "execution_count": 9,
   "id": "bc1cdedb-5e63-4f6c-8936-8abaaaf35bd0",
   "metadata": {},
   "outputs": [],
   "source": [
    "# Splitting into Train and Test sets\n",
    "X_train, X_test, y_train, y_test = train_test_split(X, y, test_size=0.2, random_state=0)"
   ]
  },
  {
   "cell_type": "code",
   "execution_count": 10,
   "id": "004f0cc3-019a-4e4f-ac4e-e21d2462a0ba",
   "metadata": {},
   "outputs": [
    {
     "data": {
      "text/plain": [
       "584"
      ]
     },
     "execution_count": 10,
     "metadata": {},
     "output_type": "execute_result"
    }
   ],
   "source": [
    "# Show how many samples are in the training set\n",
    "len(X_train)"
   ]
  },
  {
   "cell_type": "code",
   "execution_count": 11,
   "id": "cfd7502e-a9d9-40d7-bfec-a15273bfd146",
   "metadata": {},
   "outputs": [
    {
     "data": {
      "text/plain": [
       "147"
      ]
     },
     "execution_count": 11,
     "metadata": {},
     "output_type": "execute_result"
    }
   ],
   "source": [
    "# Show how many samples are in the testing set; verify 20%\n",
    "len(X_test)"
   ]
  },
  {
   "cell_type": "code",
   "execution_count": 12,
   "id": "f146edfd-3016-423c-a7d6-195fc0d6e490",
   "metadata": {},
   "outputs": [],
   "source": [
    "# Creating StandardScaler instance\n",
    "scaler = StandardScaler()\n",
    "X_scaler = scaler.fit(X_train)"
   ]
  },
  {
   "cell_type": "code",
   "execution_count": 13,
   "id": "ade3b6e4-7f27-474a-b6c5-3ee271ab4224",
   "metadata": {},
   "outputs": [],
   "source": [
    "X_train_scaled = X_scaler.transform(X_train)\n",
    "X_test_scaled = X_scaler.transform(X_test)"
   ]
  },
  {
   "cell_type": "code",
   "execution_count": 14,
   "id": "39625f6d-d09f-4730-8778-bf3b8a4ff9a4",
   "metadata": {},
   "outputs": [],
   "source": [
    "model = RandomForestRegressor()"
   ]
  },
  {
   "cell_type": "code",
   "execution_count": 15,
   "id": "a5f8d30e-fed8-42c7-b169-f04477a83e93",
   "metadata": {},
   "outputs": [],
   "source": [
    "# Hyper Parameter Tuning using RandomizedSearchCV which is prefered to GridSearchCV when you are using a high computational cost\n",
    "# or you are looking at a large amound of parameters \n",
    "param_grid = {\n",
    "'n_estimators': [50, 100, 500, 1000],\n",
    "'max_depth': [1, 5, 10, 15],\n",
    "'min_samples_split': [2, 4, 6, 8],\n",
    "'min_samples_leaf': np.arange(1, 2, 3, dtype=int),\n",
    "'bootstrap': [True, False],\n",
    "'random_state': [0, 1, 2, 3, 4]\n",
    "}"
   ]
  },
  {
   "cell_type": "code",
   "execution_count": 16,
   "id": "a3f6163a-469f-4e12-a8ed-956ce3bf235d",
   "metadata": {},
   "outputs": [
    {
     "name": "stdout",
     "output_type": "stream",
     "text": [
      "Fitting 3 folds for each of 200 candidates, totalling 600 fits\n",
      "{'random_state': 3, 'n_estimators': 500, 'min_samples_split': 4, 'min_samples_leaf': 1, 'max_depth': 10, 'bootstrap': True}\n"
     ]
    }
   ],
   "source": [
    "# Randomized Search Cross Validation\n",
    "random_search_cv = RandomizedSearchCV(estimator=model,\n",
    "param_distributions = param_grid, \n",
    "cv=3, n_jobs=-1, verbose=2, n_iter=200)\n",
    "rscv_fit = random_search_cv.fit(X_train_scaled, y_train)\n",
    "best_param = rscv_fit.best_params_\n",
    "print(best_param)"
   ]
  },
  {
   "cell_type": "code",
   "execution_count": 17,
   "id": "0915eb80-84d0-4b06-b60d-d68e73c856d3",
   "metadata": {},
   "outputs": [
    {
     "name": "stdout",
     "output_type": "stream",
     "text": [
      "[ 385.05787091  376.04948285  173.95547869  212.26003993 3243.39318017\n",
      " 1956.57555793 1327.62154105 2617.62867064 1933.02022146  206.41189656\n",
      "  212.85639027 2114.05724338  240.79813041  382.63453715  375.42768038\n",
      "  349.05357045 3861.00034639 3109.56624233 2269.01456502  232.400686\n",
      " 4055.14294512 3230.76032217 2980.21788904  375.14064424 2784.78295309\n",
      " 4401.0387003   402.12605113  605.19610531 3701.14613618 3392.98824435\n",
      "  163.51838927  604.49535515 3291.28124646  357.47883548 1826.94947961\n",
      " 3401.14240746 4265.53125592 3489.02181536  237.33583013 1571.78160592\n",
      " 2307.24426418  171.97769851 1113.06775277 2641.19645066 4541.75171165\n",
      " 3700.28244517 2109.99239838  564.11887133 4046.90791341  227.85876738\n",
      " 3847.41522891 4406.08674787 2863.18149256 3377.11440386  450.78009318\n",
      " 1555.72080206 1694.29609907 2509.76658449 4528.96523446 2196.36127621\n",
      " 2247.29867173 2821.4567667  4031.6481305  4010.54583644 3251.99602448\n",
      "  583.34417324 1136.80119408 2544.41275401 3599.95391633 3028.08484353\n",
      " 3236.57518943 3797.32134429 2196.83668086 4544.39871758  238.84062902\n",
      " 2571.22495747 2215.18960078 4223.67382833 1579.8495057  3194.67262676\n",
      "  385.8151242  3222.6331685   344.35789933  212.4805467   756.69096725\n",
      " 3013.83619358  454.29133117 3067.73018646 4087.08293411  386.86611204\n",
      "  175.9769542   230.26978537 4433.40620657 4628.74761195 3231.09176159\n",
      " 3504.27993767 1569.99476148 4590.9677378   448.49889478 3293.04647859\n",
      "  669.71649219 2541.63920711 2879.74407177 3297.16285864 1841.77159601\n",
      "  407.87328424 2592.5160317  3804.09834704 2234.46704321 1693.77134277\n",
      "  326.28972478  601.3752106   595.75087399  205.59093484 2964.67967458\n",
      "  366.65474248  646.37111643  385.89249299 2595.71583403 2140.57714945\n",
      "  200.19173969  356.23559279  205.75048946 2080.42987177 1936.31523604\n",
      "  756.69096725  198.21451135 3276.39566504 2646.7882718   241.45508895\n",
      "  238.24375472 4589.54521622  234.17533054 1332.96070786 2936.17560221\n",
      " 1927.07268606 2036.54622321  618.59895594 1155.48978377  600.49899257\n",
      " 2680.21880723  394.13145693 4255.7844698  2689.26331588  756.69096725\n",
      " 3167.76362343  609.39352201]\n",
      "(147,)\n"
     ]
    }
   ],
   "source": [
    "model = RandomForestRegressor(n_estimators=500, random_state=3, min_samples_split=4, min_samples_leaf=1, max_depth=10, bootstrap=True)\n",
    "model.fit(X_train_scaled, y_train)\n",
    "predict = model.predict(X_test_scaled)\n",
    "print(predict)\n",
    "print(predict.shape)"
   ]
  },
  {
   "cell_type": "code",
   "execution_count": 18,
   "id": "5207e6e8-668f-40bd-95a7-38061c7af7dd",
   "metadata": {},
   "outputs": [
    {
     "name": "stdout",
     "output_type": "stream",
     "text": [
      "Mean Absolute Error: 47.9203\n",
      "Mean Squared Error: 7081.8254\n",
      "Root Mean Squared Error: 84.1536\n",
      "(R^2) Score: 0.9967\n",
      "Train Score : 99.96% and Test Score : 99.67% using Random Tree Regressor.\n",
      "Accuracy: 97.68 %.\n"
     ]
    }
   ],
   "source": [
    "print(f'Mean Absolute Error:', round(metrics.mean_absolute_error(y_test, predict), 4))\n",
    "print(f'Mean Squared Error:', round(metrics.mean_squared_error(y_test, predict), 4))\n",
    "print(f'Root Mean Squared Error:', round(np.sqrt(metrics.mean_squared_error(y_test, predict)), 4))\n",
    "print(f'(R^2) Score:', round(metrics.r2_score(y_test, predict), 4))\n",
    "print(f'Train Score : {model.score(X_train_scaled, y_train) * 100:.2f}% and Test Score : {model.score(X_test_scaled, y_test) * 100:.2f}% using Random Tree Regressor.')\n",
    "errors = abs(predict - y_test)\n",
    "mape = 100 * (errors / y_test)\n",
    "accuracy = 100 - np.mean(mape)\n",
    "print('Accuracy:', round(accuracy, 2), '%.') "
   ]
  },
  {
   "cell_type": "code",
   "execution_count": 19,
   "id": "104a963e-0442-4603-82d1-a39936be4d79",
   "metadata": {},
   "outputs": [],
   "source": [
    "# Create dataframe to run predictions for different lengths of time and write into a csv file\n",
    "price_predictions = pd.DataFrame({'Predictions': predict}, \n",
    "                                 index=pd.date_range(start=eth_df.index[-1], \n",
    "                                                     periods=len(predict), \n",
    "                                                     freq='D'))\n",
    "price_predictions.to_csv('ETH_Price_Prediction_Date.csv')"
   ]
  },
  {
   "cell_type": "code",
   "execution_count": 20,
   "id": "c69a03f7-ea6d-42cb-8767-b21b5dc1634f",
   "metadata": {},
   "outputs": [],
   "source": [
    "# 1 week time period\n",
    "one_week_prediction = pd.DataFrame(price_predictions[:7])\n",
    "one_week_prediction.to_csv('One_Week_ETH_Price_Prediction.csv')"
   ]
  },
  {
   "cell_type": "code",
   "execution_count": 21,
   "id": "8bac0905-0ff6-4624-94f0-6e9f49eb2c63",
   "metadata": {},
   "outputs": [
    {
     "data": {},
     "metadata": {},
     "output_type": "display_data"
    },
    {
     "data": {
      "application/vnd.holoviews_exec.v0+json": "",
      "text/html": [
       "<div id='1208'>\n",
       "\n",
       "\n",
       "\n",
       "\n",
       "\n",
       "  <div class=\"bk-root\" id=\"49d48c0c-47bc-4ecb-a500-c5546fd032fa\" data-root-id=\"1208\"></div>\n",
       "</div>\n",
       "<script type=\"application/javascript\">(function(root) {\n",
       "  function embed_document(root) {\n",
       "    var docs_json = {\"20a10775-48e4-4a5d-b994-2149399c71b1\":{\"defs\":[{\"extends\":null,\"module\":null,\"name\":\"ReactiveHTML1\",\"overrides\":[],\"properties\":[]},{\"extends\":null,\"module\":null,\"name\":\"FlexBox1\",\"overrides\":[],\"properties\":[{\"default\":\"flex-start\",\"kind\":null,\"name\":\"align_content\"},{\"default\":\"flex-start\",\"kind\":null,\"name\":\"align_items\"},{\"default\":\"row\",\"kind\":null,\"name\":\"flex_direction\"},{\"default\":\"wrap\",\"kind\":null,\"name\":\"flex_wrap\"},{\"default\":\"flex-start\",\"kind\":null,\"name\":\"justify_content\"}]},{\"extends\":null,\"module\":null,\"name\":\"TemplateActions1\",\"overrides\":[],\"properties\":[{\"default\":0,\"kind\":null,\"name\":\"open_modal\"},{\"default\":0,\"kind\":null,\"name\":\"close_modal\"}]},{\"extends\":null,\"module\":null,\"name\":\"MaterialTemplateActions1\",\"overrides\":[],\"properties\":[{\"default\":0,\"kind\":null,\"name\":\"open_modal\"},{\"default\":0,\"kind\":null,\"name\":\"close_modal\"}]}],\"roots\":{\"references\":[{\"attributes\":{\"axis\":{\"id\":\"1222\"},\"coordinates\":null,\"grid_line_color\":null,\"group\":null,\"ticker\":null},\"id\":\"1225\",\"type\":\"Grid\"},{\"attributes\":{},\"id\":\"1279\",\"type\":\"YearsTicker\"},{\"attributes\":{},\"id\":\"1232\",\"type\":\"WheelZoomTool\"},{\"attributes\":{},\"id\":\"1254\",\"type\":\"AllLabels\"},{\"attributes\":{\"months\":[0,2,4,6,8,10]},\"id\":\"1276\",\"type\":\"MonthsTicker\"},{\"attributes\":{\"coordinates\":null,\"data_source\":{\"id\":\"1243\"},\"glyph\":{\"id\":\"1246\"},\"group\":null,\"hover_glyph\":null,\"muted_glyph\":{\"id\":\"1248\"},\"nonselection_glyph\":{\"id\":\"1247\"},\"selection_glyph\":{\"id\":\"1251\"},\"view\":{\"id\":\"1250\"}},\"id\":\"1249\",\"type\":\"GlyphRenderer\"},{\"attributes\":{},\"id\":\"1230\",\"type\":\"SaveTool\"},{\"attributes\":{\"axis_label\":\"\",\"coordinates\":null,\"formatter\":{\"id\":\"1253\"},\"group\":null,\"major_label_policy\":{\"id\":\"1254\"},\"ticker\":{\"id\":\"1223\"}},\"id\":\"1222\",\"type\":\"DatetimeAxis\"},{\"attributes\":{\"end\":1649894400000.0,\"reset_end\":1649894400000.0,\"reset_start\":1649376000000.0,\"start\":1649376000000.0,\"tags\":[[[\"index\",\"index\",null]]]},\"id\":\"1210\",\"type\":\"Range1d\"},{\"attributes\":{\"line_color\":\"#30a2da\",\"line_width\":2,\"x\":{\"field\":\"index\"},\"y\":{\"field\":\"Predictions\"}},\"id\":\"1246\",\"type\":\"Line\"},{\"attributes\":{},\"id\":\"1234\",\"type\":\"ResetTool\"},{\"attributes\":{\"months\":[0,1,2,3,4,5,6,7,8,9,10,11]},\"id\":\"1275\",\"type\":\"MonthsTicker\"},{\"attributes\":{\"axis_label\":\"USD\",\"coordinates\":null,\"formatter\":{\"id\":\"1256\"},\"group\":null,\"major_label_policy\":{\"id\":\"1257\"},\"ticker\":{\"id\":\"1227\"}},\"id\":\"1226\",\"type\":\"LinearAxis\"},{\"attributes\":{\"bottom_units\":\"screen\",\"coordinates\":null,\"fill_alpha\":0.5,\"fill_color\":\"lightgrey\",\"group\":null,\"left_units\":\"screen\",\"level\":\"overlay\",\"line_alpha\":1.0,\"line_color\":\"black\",\"line_dash\":[4,4],\"line_width\":2,\"right_units\":\"screen\",\"syncable\":false,\"top_units\":\"screen\"},\"id\":\"1235\",\"type\":\"BoxAnnotation\"},{\"attributes\":{},\"id\":\"1265\",\"type\":\"UnionRenderers\"},{\"attributes\":{},\"id\":\"1231\",\"type\":\"PanTool\"},{\"attributes\":{\"days\":[1,2,3,4,5,6,7,8,9,10,11,12,13,14,15,16,17,18,19,20,21,22,23,24,25,26,27,28,29,30,31]},\"id\":\"1271\",\"type\":\"DaysTicker\"},{\"attributes\":{\"days\":[1,15]},\"id\":\"1274\",\"type\":\"DaysTicker\"},{\"attributes\":{\"axis\":{\"id\":\"1226\"},\"coordinates\":null,\"dimension\":1,\"grid_line_color\":null,\"group\":null,\"ticker\":null},\"id\":\"1229\",\"type\":\"Grid\"},{\"attributes\":{},\"id\":\"1253\",\"type\":\"DatetimeTickFormatter\"},{\"attributes\":{\"callback\":null,\"formatters\":{\"@{index}\":\"datetime\"},\"renderers\":[{\"id\":\"1249\"}],\"tags\":[\"hv_created\"],\"tooltips\":[[\"index\",\"@{index}{%F %T}\"],[\"Predictions\",\"@{Predictions}\"]]},\"id\":\"1212\",\"type\":\"HoverTool\"},{\"attributes\":{\"months\":[0,4,8]},\"id\":\"1277\",\"type\":\"MonthsTicker\"},{\"attributes\":{\"margin\":[5,5,5,5],\"name\":\"HSpacer01807\",\"sizing_mode\":\"stretch_width\"},\"id\":\"1209\",\"type\":\"Spacer\"},{\"attributes\":{},\"id\":\"1227\",\"type\":\"BasicTicker\"},{\"attributes\":{\"margin\":[5,5,5,5],\"name\":\"HSpacer01808\",\"sizing_mode\":\"stretch_width\"},\"id\":\"1302\",\"type\":\"Spacer\"},{\"attributes\":{\"tools\":[{\"id\":\"1212\"},{\"id\":\"1230\"},{\"id\":\"1231\"},{\"id\":\"1232\"},{\"id\":\"1233\"},{\"id\":\"1234\"}]},\"id\":\"1236\",\"type\":\"Toolbar\"},{\"attributes\":{\"source\":{\"id\":\"1243\"}},\"id\":\"1250\",\"type\":\"CDSView\"},{\"attributes\":{},\"id\":\"1257\",\"type\":\"AllLabels\"},{\"attributes\":{\"coordinates\":null,\"group\":null,\"text\":\"1 Week ETH-USD Price Prediction\",\"text_color\":\"black\",\"text_font_size\":\"12pt\"},\"id\":\"1214\",\"type\":\"Title\"},{\"attributes\":{\"line_alpha\":0.1,\"line_color\":\"#30a2da\",\"line_width\":2,\"x\":{\"field\":\"index\"},\"y\":{\"field\":\"Predictions\"}},\"id\":\"1247\",\"type\":\"Line\"},{\"attributes\":{\"days\":[1,4,7,10,13,16,19,22,25,28]},\"id\":\"1272\",\"type\":\"DaysTicker\"},{\"attributes\":{\"base\":24,\"mantissas\":[1,2,4,6,8,12],\"max_interval\":43200000.0,\"min_interval\":3600000.0,\"num_minor_ticks\":0},\"id\":\"1270\",\"type\":\"AdaptiveTicker\"},{\"attributes\":{\"data\":{\"Predictions\":{\"__ndarray__\":\"HTYNCu0QeEBOW4auyoB3QM00CUiTvmVAgDxBP1KIakCRPulOyVapQIfFDl9Nkp5A155BdXy+lEA=\",\"dtype\":\"float64\",\"order\":\"little\",\"shape\":[7]},\"index\":{\"__ndarray__\":\"AACAh2cAeEIAAEDtuQB4QgAAAFMMAXhCAADAuF4BeEIAAIAesQF4QgAAQIQDAnhCAAAA6lUCeEI=\",\"dtype\":\"float64\",\"order\":\"little\",\"shape\":[7]}},\"selected\":{\"id\":\"1244\"},\"selection_policy\":{\"id\":\"1265\"}},\"id\":\"1243\",\"type\":\"ColumnDataSource\"},{\"attributes\":{},\"id\":\"1220\",\"type\":\"LinearScale\"},{\"attributes\":{\"base\":60,\"mantissas\":[1,2,5,10,15,20,30],\"max_interval\":1800000.0,\"min_interval\":1000.0,\"num_minor_ticks\":0},\"id\":\"1269\",\"type\":\"AdaptiveTicker\"},{\"attributes\":{\"days\":[1,8,15,22]},\"id\":\"1273\",\"type\":\"DaysTicker\"},{\"attributes\":{},\"id\":\"1244\",\"type\":\"Selection\"},{\"attributes\":{},\"id\":\"1218\",\"type\":\"LinearScale\"},{\"attributes\":{\"line_alpha\":0.2,\"line_color\":\"#30a2da\",\"line_width\":2,\"x\":{\"field\":\"index\"},\"y\":{\"field\":\"Predictions\"}},\"id\":\"1248\",\"type\":\"Line\"},{\"attributes\":{\"line_color\":\"#30a2da\",\"line_width\":2,\"x\":{\"field\":\"index\"},\"y\":{\"field\":\"Predictions\"}},\"id\":\"1251\",\"type\":\"Line\"},{\"attributes\":{\"months\":[0,6]},\"id\":\"1278\",\"type\":\"MonthsTicker\"},{\"attributes\":{\"end\":3550.336950317362,\"reset_end\":3550.336950317362,\"reset_start\":-132.98829146300287,\"start\":-132.98829146300287,\"tags\":[[[\"Predictions\",\"Predictions\",null]]]},\"id\":\"1211\",\"type\":\"Range1d\"},{\"attributes\":{},\"id\":\"1256\",\"type\":\"BasicTickFormatter\"},{\"attributes\":{\"mantissas\":[1,2,5],\"max_interval\":500.0,\"num_minor_ticks\":0},\"id\":\"1268\",\"type\":\"AdaptiveTicker\"},{\"attributes\":{\"children\":[{\"id\":\"1209\"},{\"id\":\"1213\"},{\"id\":\"1302\"}],\"margin\":[0,0,0,0],\"name\":\"Row01803\",\"tags\":[\"embedded\"]},\"id\":\"1208\",\"type\":\"Row\"},{\"attributes\":{\"overlay\":{\"id\":\"1235\"}},\"id\":\"1233\",\"type\":\"BoxZoomTool\"},{\"attributes\":{\"below\":[{\"id\":\"1222\"}],\"center\":[{\"id\":\"1225\"},{\"id\":\"1229\"}],\"height\":300,\"left\":[{\"id\":\"1226\"}],\"margin\":[5,5,5,5],\"min_border_bottom\":10,\"min_border_left\":10,\"min_border_right\":10,\"min_border_top\":10,\"renderers\":[{\"id\":\"1249\"}],\"sizing_mode\":\"fixed\",\"title\":{\"id\":\"1214\"},\"toolbar\":{\"id\":\"1236\"},\"width\":700,\"x_range\":{\"id\":\"1210\"},\"x_scale\":{\"id\":\"1218\"},\"y_range\":{\"id\":\"1211\"},\"y_scale\":{\"id\":\"1220\"}},\"id\":\"1213\",\"subtype\":\"Figure\",\"type\":\"Plot\"},{\"attributes\":{\"num_minor_ticks\":5,\"tickers\":[{\"id\":\"1268\"},{\"id\":\"1269\"},{\"id\":\"1270\"},{\"id\":\"1271\"},{\"id\":\"1272\"},{\"id\":\"1273\"},{\"id\":\"1274\"},{\"id\":\"1275\"},{\"id\":\"1276\"},{\"id\":\"1277\"},{\"id\":\"1278\"},{\"id\":\"1279\"}]},\"id\":\"1223\",\"type\":\"DatetimeTicker\"}],\"root_ids\":[\"1208\"]},\"title\":\"Bokeh Application\",\"version\":\"2.4.2\"}};\n",
       "    var render_items = [{\"docid\":\"20a10775-48e4-4a5d-b994-2149399c71b1\",\"root_ids\":[\"1208\"],\"roots\":{\"1208\":\"49d48c0c-47bc-4ecb-a500-c5546fd032fa\"}}];\n",
       "    root.Bokeh.embed.embed_items_notebook(docs_json, render_items);\n",
       "  }\n",
       "  if (root.Bokeh !== undefined && root.Bokeh.Panel !== undefined) {\n",
       "    embed_document(root);\n",
       "  } else {\n",
       "    var attempts = 0;\n",
       "    var timer = setInterval(function(root) {\n",
       "      if (root.Bokeh !== undefined && root.Bokeh.Panel !== undefined) {\n",
       "        clearInterval(timer);\n",
       "        embed_document(root);\n",
       "      } else if (document.readyState == \"complete\") {\n",
       "        attempts++;\n",
       "        if (attempts > 200) {\n",
       "          clearInterval(timer);\n",
       "          console.log(\"Bokeh: ERROR: Unable to run BokehJS code because BokehJS library is missing\");\n",
       "        }\n",
       "      }\n",
       "    }, 25, root)\n",
       "  }\n",
       "})(window);</script>"
      ],
      "text/plain": [
       ":Curve   [index]   (Predictions)"
      ]
     },
     "execution_count": 21,
     "metadata": {
      "application/vnd.holoviews_exec.v0+json": {
       "id": "1208"
      }
     },
     "output_type": "execute_result"
    }
   ],
   "source": [
    "# Plot 1 Week Prediction\n",
    "weekly_prediction = pd.read_csv('One_Week_ETH_Price_Prediction.csv', )\n",
    "one_week_prediction.hvplot(title='1 Week ETH-USD Price Prediction', ylabel='USD', figsize=(16,8)) "
   ]
  },
  {
   "cell_type": "code",
   "execution_count": 22,
   "id": "8573a790-67b8-4ef5-ab51-6d3b5a4e5da4",
   "metadata": {},
   "outputs": [],
   "source": [
    "# 1 month time period\n",
    "one_month_prediction = pd.DataFrame(price_predictions[:30])\n",
    "one_month_prediction.to_csv('One_Month_ETH_Price_Prediction.csv')"
   ]
  },
  {
   "cell_type": "code",
   "execution_count": 23,
   "id": "c1c72524-ce10-4577-86f0-b1fa36a000c9",
   "metadata": {},
   "outputs": [
    {
     "data": {},
     "metadata": {},
     "output_type": "display_data"
    },
    {
     "data": {
      "application/vnd.holoviews_exec.v0+json": "",
      "text/html": [
       "<div id='1414'>\n",
       "\n",
       "\n",
       "\n",
       "\n",
       "\n",
       "  <div class=\"bk-root\" id=\"3341ab67-42b4-4d32-bc68-e8621dd3a0fb\" data-root-id=\"1414\"></div>\n",
       "</div>\n",
       "<script type=\"application/javascript\">(function(root) {\n",
       "  function embed_document(root) {\n",
       "    var docs_json = {\"e65a00a9-42bb-451d-9a27-2ce13eb5ab24\":{\"defs\":[{\"extends\":null,\"module\":null,\"name\":\"ReactiveHTML1\",\"overrides\":[],\"properties\":[]},{\"extends\":null,\"module\":null,\"name\":\"FlexBox1\",\"overrides\":[],\"properties\":[{\"default\":\"flex-start\",\"kind\":null,\"name\":\"align_content\"},{\"default\":\"flex-start\",\"kind\":null,\"name\":\"align_items\"},{\"default\":\"row\",\"kind\":null,\"name\":\"flex_direction\"},{\"default\":\"wrap\",\"kind\":null,\"name\":\"flex_wrap\"},{\"default\":\"flex-start\",\"kind\":null,\"name\":\"justify_content\"}]},{\"extends\":null,\"module\":null,\"name\":\"TemplateActions1\",\"overrides\":[],\"properties\":[{\"default\":0,\"kind\":null,\"name\":\"open_modal\"},{\"default\":0,\"kind\":null,\"name\":\"close_modal\"}]},{\"extends\":null,\"module\":null,\"name\":\"MaterialTemplateActions1\",\"overrides\":[],\"properties\":[{\"default\":0,\"kind\":null,\"name\":\"open_modal\"},{\"default\":0,\"kind\":null,\"name\":\"close_modal\"}]}],\"roots\":{\"references\":[{\"attributes\":{},\"id\":\"1429\",\"type\":\"BasicTicker\"},{\"attributes\":{\"end\":4823.747022457994,\"reset_end\":4823.747022457994,\"reset_start\":-248.75284347578767,\"start\":-248.75284347578767,\"tags\":[[[\"Predictions\",\"Predictions\",null]]]},\"id\":\"1417\",\"type\":\"Range1d\"},{\"attributes\":{\"line_alpha\":0.1,\"line_color\":\"#30a2da\",\"line_width\":2,\"x\":{\"field\":\"index\"},\"y\":{\"field\":\"Predictions\"}},\"id\":\"1453\",\"type\":\"Line\"},{\"attributes\":{},\"id\":\"1426\",\"type\":\"LinearScale\"},{\"attributes\":{\"source\":{\"id\":\"1449\"}},\"id\":\"1456\",\"type\":\"CDSView\"},{\"attributes\":{\"axis_label\":\"\",\"coordinates\":null,\"formatter\":{\"id\":\"1459\"},\"group\":null,\"major_label_policy\":{\"id\":\"1460\"},\"ticker\":{\"id\":\"1429\"}},\"id\":\"1428\",\"type\":\"LinearAxis\"},{\"attributes\":{\"data\":{\"Predictions\":{\"__ndarray__\":\"HTYNCu0QeEBOW4auyoB3QM00CUiTvmVAgDxBP1KIakCRPulOyVapQIfFDl9Nkp5A155BdXy+lEC/Hh7hQXOkQHJU77QUNJ5ATX6xQS7NaUBGlo+MZ5tqQOozAU8dhKBAepnJSIoZbkCJS20QJ+p3QFtpYsfXdndAwQqvbNvQdUAc12YtACquQGK/g+ohS6hA9NsQdQe6oUAn0nFr0gxtQAZTGjBJrq9AkqnySIU9qUBaDSePb0inQNWeLRRAcndAPyA635DBpUBMPUPoCTGxQL4GMU4EInlAMyqpn5HpgkBymlzSSuqsQK/sKfv5gapA\",\"dtype\":\"float64\",\"order\":\"little\",\"shape\":[30]},\"index\":[0,1,2,3,4,5,6,7,8,9,10,11,12,13,14,15,16,17,18,19,20,21,22,23,24,25,26,27,28,29]},\"selected\":{\"id\":\"1450\"},\"selection_policy\":{\"id\":\"1471\"}},\"id\":\"1449\",\"type\":\"ColumnDataSource\"},{\"attributes\":{\"below\":[{\"id\":\"1428\"}],\"center\":[{\"id\":\"1431\"},{\"id\":\"1435\"}],\"height\":300,\"left\":[{\"id\":\"1432\"}],\"margin\":[5,5,5,5],\"min_border_bottom\":10,\"min_border_left\":10,\"min_border_right\":10,\"min_border_top\":10,\"renderers\":[{\"id\":\"1455\"}],\"sizing_mode\":\"fixed\",\"title\":{\"id\":\"1420\"},\"toolbar\":{\"id\":\"1442\"},\"width\":700,\"x_range\":{\"id\":\"1416\"},\"x_scale\":{\"id\":\"1424\"},\"y_range\":{\"id\":\"1417\"},\"y_scale\":{\"id\":\"1426\"}},\"id\":\"1419\",\"subtype\":\"Figure\",\"type\":\"Plot\"},{\"attributes\":{\"coordinates\":null,\"group\":null,\"text\":\"1 Month ETH-USD Price Prediction\",\"text_color\":\"black\",\"text_font_size\":\"12pt\"},\"id\":\"1420\",\"type\":\"Title\"},{\"attributes\":{\"bottom_units\":\"screen\",\"coordinates\":null,\"fill_alpha\":0.5,\"fill_color\":\"lightgrey\",\"group\":null,\"left_units\":\"screen\",\"level\":\"overlay\",\"line_alpha\":1.0,\"line_color\":\"black\",\"line_dash\":[4,4],\"line_width\":2,\"right_units\":\"screen\",\"syncable\":false,\"top_units\":\"screen\"},\"id\":\"1441\",\"type\":\"BoxAnnotation\"},{\"attributes\":{\"callback\":null,\"renderers\":[{\"id\":\"1455\"}],\"tags\":[\"hv_created\"],\"tooltips\":[[\"index\",\"@{index}\"],[\"Predictions\",\"@{Predictions}\"]]},\"id\":\"1418\",\"type\":\"HoverTool\"},{\"attributes\":{},\"id\":\"1440\",\"type\":\"ResetTool\"},{\"attributes\":{},\"id\":\"1437\",\"type\":\"PanTool\"},{\"attributes\":{},\"id\":\"1438\",\"type\":\"WheelZoomTool\"},{\"attributes\":{\"overlay\":{\"id\":\"1441\"}},\"id\":\"1439\",\"type\":\"BoxZoomTool\"},{\"attributes\":{},\"id\":\"1450\",\"type\":\"Selection\"},{\"attributes\":{\"children\":[{\"id\":\"1415\"},{\"id\":\"1419\"},{\"id\":\"1484\"}],\"margin\":[0,0,0,0],\"name\":\"Row01981\",\"tags\":[\"embedded\"]},\"id\":\"1414\",\"type\":\"Row\"},{\"attributes\":{\"margin\":[5,5,5,5],\"name\":\"HSpacer01985\",\"sizing_mode\":\"stretch_width\"},\"id\":\"1415\",\"type\":\"Spacer\"},{\"attributes\":{},\"id\":\"1433\",\"type\":\"BasicTicker\"},{\"attributes\":{\"axis\":{\"id\":\"1432\"},\"coordinates\":null,\"dimension\":1,\"grid_line_color\":null,\"group\":null,\"ticker\":null},\"id\":\"1435\",\"type\":\"Grid\"},{\"attributes\":{},\"id\":\"1463\",\"type\":\"AllLabels\"},{\"attributes\":{\"coordinates\":null,\"data_source\":{\"id\":\"1449\"},\"glyph\":{\"id\":\"1452\"},\"group\":null,\"hover_glyph\":null,\"muted_glyph\":{\"id\":\"1454\"},\"nonselection_glyph\":{\"id\":\"1453\"},\"selection_glyph\":{\"id\":\"1457\"},\"view\":{\"id\":\"1456\"}},\"id\":\"1455\",\"type\":\"GlyphRenderer\"},{\"attributes\":{\"tools\":[{\"id\":\"1418\"},{\"id\":\"1436\"},{\"id\":\"1437\"},{\"id\":\"1438\"},{\"id\":\"1439\"},{\"id\":\"1440\"}]},\"id\":\"1442\",\"type\":\"Toolbar\"},{\"attributes\":{\"margin\":[5,5,5,5],\"name\":\"HSpacer01986\",\"sizing_mode\":\"stretch_width\"},\"id\":\"1484\",\"type\":\"Spacer\"},{\"attributes\":{\"line_alpha\":0.2,\"line_color\":\"#30a2da\",\"line_width\":2,\"x\":{\"field\":\"index\"},\"y\":{\"field\":\"Predictions\"}},\"id\":\"1454\",\"type\":\"Line\"},{\"attributes\":{\"axis\":{\"id\":\"1428\"},\"coordinates\":null,\"grid_line_color\":null,\"group\":null,\"ticker\":null},\"id\":\"1431\",\"type\":\"Grid\"},{\"attributes\":{\"line_color\":\"#30a2da\",\"line_width\":2,\"x\":{\"field\":\"index\"},\"y\":{\"field\":\"Predictions\"}},\"id\":\"1457\",\"type\":\"Line\"},{\"attributes\":{\"axis_label\":\"USD\",\"coordinates\":null,\"formatter\":{\"id\":\"1462\"},\"group\":null,\"major_label_policy\":{\"id\":\"1463\"},\"ticker\":{\"id\":\"1433\"}},\"id\":\"1432\",\"type\":\"LinearAxis\"},{\"attributes\":{},\"id\":\"1436\",\"type\":\"SaveTool\"},{\"attributes\":{\"end\":29.0,\"reset_end\":29.0,\"reset_start\":0.0,\"tags\":[[[\"index\",\"index\",null]]]},\"id\":\"1416\",\"type\":\"Range1d\"},{\"attributes\":{},\"id\":\"1459\",\"type\":\"BasicTickFormatter\"},{\"attributes\":{},\"id\":\"1460\",\"type\":\"AllLabels\"},{\"attributes\":{},\"id\":\"1424\",\"type\":\"LinearScale\"},{\"attributes\":{\"line_color\":\"#30a2da\",\"line_width\":2,\"x\":{\"field\":\"index\"},\"y\":{\"field\":\"Predictions\"}},\"id\":\"1452\",\"type\":\"Line\"},{\"attributes\":{},\"id\":\"1471\",\"type\":\"UnionRenderers\"},{\"attributes\":{},\"id\":\"1462\",\"type\":\"BasicTickFormatter\"}],\"root_ids\":[\"1414\"]},\"title\":\"Bokeh Application\",\"version\":\"2.4.2\"}};\n",
       "    var render_items = [{\"docid\":\"e65a00a9-42bb-451d-9a27-2ce13eb5ab24\",\"root_ids\":[\"1414\"],\"roots\":{\"1414\":\"3341ab67-42b4-4d32-bc68-e8621dd3a0fb\"}}];\n",
       "    root.Bokeh.embed.embed_items_notebook(docs_json, render_items);\n",
       "  }\n",
       "  if (root.Bokeh !== undefined && root.Bokeh.Panel !== undefined) {\n",
       "    embed_document(root);\n",
       "  } else {\n",
       "    var attempts = 0;\n",
       "    var timer = setInterval(function(root) {\n",
       "      if (root.Bokeh !== undefined && root.Bokeh.Panel !== undefined) {\n",
       "        clearInterval(timer);\n",
       "        embed_document(root);\n",
       "      } else if (document.readyState == \"complete\") {\n",
       "        attempts++;\n",
       "        if (attempts > 200) {\n",
       "          clearInterval(timer);\n",
       "          console.log(\"Bokeh: ERROR: Unable to run BokehJS code because BokehJS library is missing\");\n",
       "        }\n",
       "      }\n",
       "    }, 25, root)\n",
       "  }\n",
       "})(window);</script>"
      ],
      "text/plain": [
       ":Curve   [index]   (Predictions)"
      ]
     },
     "execution_count": 23,
     "metadata": {
      "application/vnd.holoviews_exec.v0+json": {
       "id": "1414"
      }
     },
     "output_type": "execute_result"
    }
   ],
   "source": [
    "monthly_prediction = pd.read_csv('One_Month_ETH_Price_Prediction.csv')\n",
    "monthly_prediction.hvplot(title='1 Month ETH-USD Price Prediction', ylabel='USD', figsize=(16,8)) "
   ]
  },
  {
   "cell_type": "code",
   "execution_count": 24,
   "id": "9e519099-0e75-4dc7-80db-7da85ddd3ef3",
   "metadata": {},
   "outputs": [],
   "source": [
    "# 3 month time period\n",
    "three_month_prediction = pd.DataFrame(price_predictions[:91])\n",
    "three_month_prediction.to_csv('Three_Month_ETH_Price_Prediction.csv')"
   ]
  },
  {
   "cell_type": "code",
   "execution_count": 25,
   "id": "9db60353-d4b4-4695-8a45-2e8271476ece",
   "metadata": {},
   "outputs": [
    {
     "data": {},
     "metadata": {},
     "output_type": "display_data"
    },
    {
     "data": {
      "application/vnd.holoviews_exec.v0+json": "",
      "text/html": [
       "<div id='1536'>\n",
       "\n",
       "\n",
       "\n",
       "\n",
       "\n",
       "  <div class=\"bk-root\" id=\"3dc604b6-3b14-4f91-9451-fdd2f71f5b9b\" data-root-id=\"1536\"></div>\n",
       "</div>\n",
       "<script type=\"application/javascript\">(function(root) {\n",
       "  function embed_document(root) {\n",
       "    var docs_json = {\"c9381717-fbfc-416e-b1b9-78fa65bcbdd9\":{\"defs\":[{\"extends\":null,\"module\":null,\"name\":\"ReactiveHTML1\",\"overrides\":[],\"properties\":[]},{\"extends\":null,\"module\":null,\"name\":\"FlexBox1\",\"overrides\":[],\"properties\":[{\"default\":\"flex-start\",\"kind\":null,\"name\":\"align_content\"},{\"default\":\"flex-start\",\"kind\":null,\"name\":\"align_items\"},{\"default\":\"row\",\"kind\":null,\"name\":\"flex_direction\"},{\"default\":\"wrap\",\"kind\":null,\"name\":\"flex_wrap\"},{\"default\":\"flex-start\",\"kind\":null,\"name\":\"justify_content\"}]},{\"extends\":null,\"module\":null,\"name\":\"TemplateActions1\",\"overrides\":[],\"properties\":[{\"default\":0,\"kind\":null,\"name\":\"open_modal\"},{\"default\":0,\"kind\":null,\"name\":\"close_modal\"}]},{\"extends\":null,\"module\":null,\"name\":\"MaterialTemplateActions1\",\"overrides\":[],\"properties\":[{\"default\":0,\"kind\":null,\"name\":\"open_modal\"},{\"default\":0,\"kind\":null,\"name\":\"close_modal\"}]}],\"roots\":{\"references\":[{\"attributes\":{},\"id\":\"1548\",\"type\":\"LinearScale\"},{\"attributes\":{},\"id\":\"1593\",\"type\":\"UnionRenderers\"},{\"attributes\":{\"end\":4982.486750416108,\"reset_end\":4982.486750416108,\"reset_start\":-274.5696435652612,\"start\":-274.5696435652612,\"tags\":[[[\"Predictions\",\"Predictions\",null]]]},\"id\":\"1539\",\"type\":\"Range1d\"},{\"attributes\":{\"axis_label\":\"\",\"coordinates\":null,\"formatter\":{\"id\":\"1581\"},\"group\":null,\"major_label_policy\":{\"id\":\"1582\"},\"ticker\":{\"id\":\"1551\"}},\"id\":\"1550\",\"type\":\"LinearAxis\"},{\"attributes\":{\"line_color\":\"#30a2da\",\"line_width\":2,\"x\":{\"field\":\"index\"},\"y\":{\"field\":\"Predictions\"}},\"id\":\"1579\",\"type\":\"Line\"},{\"attributes\":{},\"id\":\"1582\",\"type\":\"AllLabels\"},{\"attributes\":{},\"id\":\"1585\",\"type\":\"AllLabels\"},{\"attributes\":{\"margin\":[5,5,5,5],\"name\":\"HSpacer02163\",\"sizing_mode\":\"stretch_width\"},\"id\":\"1537\",\"type\":\"Spacer\"},{\"attributes\":{},\"id\":\"1555\",\"type\":\"BasicTicker\"},{\"attributes\":{\"end\":90.0,\"reset_end\":90.0,\"reset_start\":0.0,\"tags\":[[[\"index\",\"index\",null]]]},\"id\":\"1538\",\"type\":\"Range1d\"},{\"attributes\":{\"coordinates\":null,\"data_source\":{\"id\":\"1571\"},\"glyph\":{\"id\":\"1574\"},\"group\":null,\"hover_glyph\":null,\"muted_glyph\":{\"id\":\"1576\"},\"nonselection_glyph\":{\"id\":\"1575\"},\"selection_glyph\":{\"id\":\"1579\"},\"view\":{\"id\":\"1578\"}},\"id\":\"1577\",\"type\":\"GlyphRenderer\"},{\"attributes\":{},\"id\":\"1584\",\"type\":\"BasicTickFormatter\"},{\"attributes\":{\"margin\":[5,5,5,5],\"name\":\"HSpacer02164\",\"sizing_mode\":\"stretch_width\"},\"id\":\"1606\",\"type\":\"Spacer\"},{\"attributes\":{\"line_alpha\":0.1,\"line_color\":\"#30a2da\",\"line_width\":2,\"x\":{\"field\":\"index\"},\"y\":{\"field\":\"Predictions\"}},\"id\":\"1575\",\"type\":\"Line\"},{\"attributes\":{},\"id\":\"1572\",\"type\":\"Selection\"},{\"attributes\":{\"bottom_units\":\"screen\",\"coordinates\":null,\"fill_alpha\":0.5,\"fill_color\":\"lightgrey\",\"group\":null,\"left_units\":\"screen\",\"level\":\"overlay\",\"line_alpha\":1.0,\"line_color\":\"black\",\"line_dash\":[4,4],\"line_width\":2,\"right_units\":\"screen\",\"syncable\":false,\"top_units\":\"screen\"},\"id\":\"1563\",\"type\":\"BoxAnnotation\"},{\"attributes\":{\"callback\":null,\"renderers\":[{\"id\":\"1577\"}],\"tags\":[\"hv_created\"],\"tooltips\":[[\"index\",\"@{index}\"],[\"Predictions\",\"@{Predictions}\"]]},\"id\":\"1540\",\"type\":\"HoverTool\"},{\"attributes\":{},\"id\":\"1562\",\"type\":\"ResetTool\"},{\"attributes\":{},\"id\":\"1551\",\"type\":\"BasicTicker\"},{\"attributes\":{},\"id\":\"1581\",\"type\":\"BasicTickFormatter\"},{\"attributes\":{\"axis\":{\"id\":\"1550\"},\"coordinates\":null,\"grid_line_color\":null,\"group\":null,\"ticker\":null},\"id\":\"1553\",\"type\":\"Grid\"},{\"attributes\":{\"axis_label\":\"USD\",\"coordinates\":null,\"formatter\":{\"id\":\"1584\"},\"group\":null,\"major_label_policy\":{\"id\":\"1585\"},\"ticker\":{\"id\":\"1555\"}},\"id\":\"1554\",\"type\":\"LinearAxis\"},{\"attributes\":{},\"id\":\"1560\",\"type\":\"WheelZoomTool\"},{\"attributes\":{\"overlay\":{\"id\":\"1563\"}},\"id\":\"1561\",\"type\":\"BoxZoomTool\"},{\"attributes\":{},\"id\":\"1559\",\"type\":\"PanTool\"},{\"attributes\":{\"axis\":{\"id\":\"1554\"},\"coordinates\":null,\"dimension\":1,\"grid_line_color\":null,\"group\":null,\"ticker\":null},\"id\":\"1557\",\"type\":\"Grid\"},{\"attributes\":{\"children\":[{\"id\":\"1537\"},{\"id\":\"1541\"},{\"id\":\"1606\"}],\"margin\":[0,0,0,0],\"name\":\"Row02159\",\"tags\":[\"embedded\"]},\"id\":\"1536\",\"type\":\"Row\"},{\"attributes\":{\"tools\":[{\"id\":\"1540\"},{\"id\":\"1558\"},{\"id\":\"1559\"},{\"id\":\"1560\"},{\"id\":\"1561\"},{\"id\":\"1562\"}]},\"id\":\"1564\",\"type\":\"Toolbar\"},{\"attributes\":{\"data\":{\"Predictions\":{\"__ndarray__\":\"HTYNCu0QeEBOW4auyoB3QM00CUiTvmVAgDxBP1KIakCRPulOyVapQIfFDl9Nkp5A155BdXy+lEC/Hh7hQXOkQHJU77QUNJ5ATX6xQS7NaUBGlo+MZ5tqQOozAU8dhKBAepnJSIoZbkCJS20QJ+p3QFtpYsfXdndAwQqvbNvQdUAc12YtACquQGK/g+ohS6hA9NsQdQe6oUAn0nFr0gxtQAZTGjBJrq9AkqnySIU9qUBaDSePb0inQNWeLRRAcndAPyA635DBpUBMPUPoCTGxQL4GMU4EInlAMyqpn5HpgkBymlzSSuqsQK/sKfv5gapAkkkWpZZwZECHD8N89uOCQGIoif+PtqlADZFlT6lXdkCHH2JEzIucQMFOoelIkqpAcUVjAIipsEC0ImIrC0KrQDsp1B6/qm1AgidNXSCPmEDS2jEQfQaiQPLWZE5Jf2VA8m37YEVkkUBUVi6VZKKkQB7ALHDAvbFAe0SnnJDorEAD+qMb/HugQESzz3LzoIFAzswG2tCdr0D1aLoFe3tsQNki4pjUDq5AAdIbNRY2sUDa7ZfsXF6mQHxsJJM6YqpA8Fb8QnssfEAyJO8Z4k6YQP53mDQveZpAfg7DfYibo0C/G5sZ97CxQPrsMfm4KKFAv0GA65iOoUBAN1Pd6QqmQF6gwtdLf69AwKbfdxdVr0Apiev2/WepQL/j5d3AOoJAzDk4bDTDkUBTRn5U0+CjQB+0uGfoH6xAVVGccCuop0B+iDp/JkmpQLQiPYekqq1AzOBuYawpoUAHCVsSZsCxQHwR127m2m1AYkGgLXMWpECAmVoTYU6hQIBqA4Csf7BAOUbS5GWvmEBe6ohiWPWoQBi4rL8KHXhAf3mpLkQtqUCPjaX0uYV1QARydqNgj2pAV7XWGYelh0BIqJAhrIunQLJQ3kqpZHxAjv//2nX3p0Bhy1Z2Ku6vQOf+S5jbLXhA6UpzNUP/ZUA=\",\"dtype\":\"float64\",\"order\":\"little\",\"shape\":[91]},\"index\":[0,1,2,3,4,5,6,7,8,9,10,11,12,13,14,15,16,17,18,19,20,21,22,23,24,25,26,27,28,29,30,31,32,33,34,35,36,37,38,39,40,41,42,43,44,45,46,47,48,49,50,51,52,53,54,55,56,57,58,59,60,61,62,63,64,65,66,67,68,69,70,71,72,73,74,75,76,77,78,79,80,81,82,83,84,85,86,87,88,89,90]},\"selected\":{\"id\":\"1572\"},\"selection_policy\":{\"id\":\"1593\"}},\"id\":\"1571\",\"type\":\"ColumnDataSource\"},{\"attributes\":{\"coordinates\":null,\"group\":null,\"text\":\"Quarterly ETH-USD Price Prediction\",\"text_color\":\"black\",\"text_font_size\":\"12pt\"},\"id\":\"1542\",\"type\":\"Title\"},{\"attributes\":{},\"id\":\"1558\",\"type\":\"SaveTool\"},{\"attributes\":{\"below\":[{\"id\":\"1550\"}],\"center\":[{\"id\":\"1553\"},{\"id\":\"1557\"}],\"height\":300,\"left\":[{\"id\":\"1554\"}],\"margin\":[5,5,5,5],\"min_border_bottom\":10,\"min_border_left\":10,\"min_border_right\":10,\"min_border_top\":10,\"renderers\":[{\"id\":\"1577\"}],\"sizing_mode\":\"fixed\",\"title\":{\"id\":\"1542\"},\"toolbar\":{\"id\":\"1564\"},\"width\":700,\"x_range\":{\"id\":\"1538\"},\"x_scale\":{\"id\":\"1546\"},\"y_range\":{\"id\":\"1539\"},\"y_scale\":{\"id\":\"1548\"}},\"id\":\"1541\",\"subtype\":\"Figure\",\"type\":\"Plot\"},{\"attributes\":{\"source\":{\"id\":\"1571\"}},\"id\":\"1578\",\"type\":\"CDSView\"},{\"attributes\":{\"line_color\":\"#30a2da\",\"line_width\":2,\"x\":{\"field\":\"index\"},\"y\":{\"field\":\"Predictions\"}},\"id\":\"1574\",\"type\":\"Line\"},{\"attributes\":{},\"id\":\"1546\",\"type\":\"LinearScale\"},{\"attributes\":{\"line_alpha\":0.2,\"line_color\":\"#30a2da\",\"line_width\":2,\"x\":{\"field\":\"index\"},\"y\":{\"field\":\"Predictions\"}},\"id\":\"1576\",\"type\":\"Line\"}],\"root_ids\":[\"1536\"]},\"title\":\"Bokeh Application\",\"version\":\"2.4.2\"}};\n",
       "    var render_items = [{\"docid\":\"c9381717-fbfc-416e-b1b9-78fa65bcbdd9\",\"root_ids\":[\"1536\"],\"roots\":{\"1536\":\"3dc604b6-3b14-4f91-9451-fdd2f71f5b9b\"}}];\n",
       "    root.Bokeh.embed.embed_items_notebook(docs_json, render_items);\n",
       "  }\n",
       "  if (root.Bokeh !== undefined && root.Bokeh.Panel !== undefined) {\n",
       "    embed_document(root);\n",
       "  } else {\n",
       "    var attempts = 0;\n",
       "    var timer = setInterval(function(root) {\n",
       "      if (root.Bokeh !== undefined && root.Bokeh.Panel !== undefined) {\n",
       "        clearInterval(timer);\n",
       "        embed_document(root);\n",
       "      } else if (document.readyState == \"complete\") {\n",
       "        attempts++;\n",
       "        if (attempts > 200) {\n",
       "          clearInterval(timer);\n",
       "          console.log(\"Bokeh: ERROR: Unable to run BokehJS code because BokehJS library is missing\");\n",
       "        }\n",
       "      }\n",
       "    }, 25, root)\n",
       "  }\n",
       "})(window);</script>"
      ],
      "text/plain": [
       ":Curve   [index]   (Predictions)"
      ]
     },
     "execution_count": 25,
     "metadata": {
      "application/vnd.holoviews_exec.v0+json": {
       "id": "1536"
      }
     },
     "output_type": "execute_result"
    }
   ],
   "source": [
    "quarterly_prediction = pd.read_csv('Three_Month_ETH_Price_Prediction.csv')\n",
    "quarterly_prediction.hvplot(title='Quarterly ETH-USD Price Prediction', ylabel='USD', figsize=(16,8)) "
   ]
  },
  {
   "cell_type": "code",
   "execution_count": 26,
   "id": "af24e71e-3957-45da-af60-a6e9c0fa7724",
   "metadata": {},
   "outputs": [],
   "source": [
    "# 6 month time period\n",
    "six_month_prediction = pd.DataFrame(price_predictions[:182])\n",
    "six_month_prediction.to_csv('Six_Month_ETH_Price_Prediction.csv')"
   ]
  },
  {
   "cell_type": "code",
   "execution_count": 27,
   "id": "567be431-64f3-4615-ae1d-0c15cdc145ce",
   "metadata": {},
   "outputs": [
    {
     "data": {},
     "metadata": {},
     "output_type": "display_data"
    },
    {
     "data": {
      "application/vnd.holoviews_exec.v0+json": "",
      "text/html": [
       "<div id='1658'>\n",
       "\n",
       "\n",
       "\n",
       "\n",
       "\n",
       "  <div class=\"bk-root\" id=\"cd16c690-afde-40d4-9049-8aae9ef8191f\" data-root-id=\"1658\"></div>\n",
       "</div>\n",
       "<script type=\"application/javascript\">(function(root) {\n",
       "  function embed_document(root) {\n",
       "    var docs_json = {\"d602abe3-a3c2-43a5-96dd-039dac81ac93\":{\"defs\":[{\"extends\":null,\"module\":null,\"name\":\"ReactiveHTML1\",\"overrides\":[],\"properties\":[]},{\"extends\":null,\"module\":null,\"name\":\"FlexBox1\",\"overrides\":[],\"properties\":[{\"default\":\"flex-start\",\"kind\":null,\"name\":\"align_content\"},{\"default\":\"flex-start\",\"kind\":null,\"name\":\"align_items\"},{\"default\":\"row\",\"kind\":null,\"name\":\"flex_direction\"},{\"default\":\"wrap\",\"kind\":null,\"name\":\"flex_wrap\"},{\"default\":\"flex-start\",\"kind\":null,\"name\":\"justify_content\"}]},{\"extends\":null,\"module\":null,\"name\":\"TemplateActions1\",\"overrides\":[],\"properties\":[{\"default\":0,\"kind\":null,\"name\":\"open_modal\"},{\"default\":0,\"kind\":null,\"name\":\"close_modal\"}]},{\"extends\":null,\"module\":null,\"name\":\"MaterialTemplateActions1\",\"overrides\":[],\"properties\":[{\"default\":0,\"kind\":null,\"name\":\"open_modal\"},{\"default\":0,\"kind\":null,\"name\":\"close_modal\"}]}],\"roots\":{\"references\":[{\"attributes\":{\"coordinates\":null,\"data_source\":{\"id\":\"1693\"},\"glyph\":{\"id\":\"1696\"},\"group\":null,\"hover_glyph\":null,\"muted_glyph\":{\"id\":\"1698\"},\"nonselection_glyph\":{\"id\":\"1697\"},\"selection_glyph\":{\"id\":\"1701\"},\"view\":{\"id\":\"1700\"}},\"id\":\"1699\",\"type\":\"GlyphRenderer\"},{\"attributes\":{\"overlay\":{\"id\":\"1685\"}},\"id\":\"1683\",\"type\":\"BoxZoomTool\"},{\"attributes\":{\"axis\":{\"id\":\"1672\"},\"coordinates\":null,\"grid_line_color\":null,\"group\":null,\"ticker\":null},\"id\":\"1675\",\"type\":\"Grid\"},{\"attributes\":{},\"id\":\"1684\",\"type\":\"ResetTool\"},{\"attributes\":{},\"id\":\"1706\",\"type\":\"BasicTickFormatter\"},{\"attributes\":{},\"id\":\"1673\",\"type\":\"BasicTicker\"},{\"attributes\":{\"coordinates\":null,\"group\":null,\"text\":\"Half Year ETH-USD Price Prediction\",\"text_color\":\"black\",\"text_font_size\":\"12pt\"},\"id\":\"1664\",\"type\":\"Title\"},{\"attributes\":{},\"id\":\"1707\",\"type\":\"AllLabels\"},{\"attributes\":{\"line_color\":\"#30a2da\",\"line_width\":2,\"x\":{\"field\":\"index\"},\"y\":{\"field\":\"Predictions\"}},\"id\":\"1701\",\"type\":\"Line\"},{\"attributes\":{\"data\":{\"Predictions\":{\"__ndarray__\":\"HTYNCu0QeEBOW4auyoB3QM00CUiTvmVAgDxBP1KIakCRPulOyVapQIfFDl9Nkp5A155BdXy+lEC/Hh7hQXOkQHJU77QUNJ5ATX6xQS7NaUBGlo+MZ5tqQOozAU8dhKBAepnJSIoZbkCJS20QJ+p3QFtpYsfXdndAwQqvbNvQdUAc12YtACquQGK/g+ohS6hA9NsQdQe6oUAn0nFr0gxtQAZTGjBJrq9AkqnySIU9qUBaDSePb0inQNWeLRRAcndAPyA635DBpUBMPUPoCTGxQL4GMU4EInlAMyqpn5HpgkBymlzSSuqsQK/sKfv5gapAkkkWpZZwZECHD8N89uOCQGIoif+PtqlADZFlT6lXdkCHH2JEzIucQMFOoelIkqpAcUVjAIipsEC0ImIrC0KrQDsp1B6/qm1AgidNXSCPmEDS2jEQfQaiQPLWZE5Jf2VA8m37YEVkkUBUVi6VZKKkQB7ALHDAvbFAe0SnnJDorEAD+qMb/HugQESzz3LzoIFAzswG2tCdr0D1aLoFe3tsQNki4pjUDq5AAdIbNRY2sUDa7ZfsXF6mQHxsJJM6YqpA8Fb8QnssfEAyJO8Z4k6YQP53mDQveZpAfg7DfYibo0C/G5sZ97CxQPrsMfm4KKFAv0GA65iOoUBAN1Pd6QqmQF6gwtdLf69AwKbfdxdVr0Apiev2/WepQL/j5d3AOoJAzDk4bDTDkUBTRn5U0+CjQB+0uGfoH6xAVVGccCuop0B+iDp/JkmpQLQiPYekqq1AzOBuYawpoUAHCVsSZsCxQHwR127m2m1AYkGgLXMWpECAmVoTYU6hQIBqA4Csf7BAOUbS5GWvmEBe6ohiWPWoQBi4rL8KHXhAf3mpLkQtqUCPjaX0uYV1QARydqNgj2pAV7XWGYelh0BIqJAhrIunQLJQ3kqpZHxAjv//2nX3p0Bhy1Z2Ku6vQOf+S5jbLXhA6UpzNUP/ZUBcn+8UoshsQPhxJ/1nUbFAeB5/Y78UskCH4F/7Lj6pQI94/VOPYKtAV67AovqHmECKB6q99+6xQEkdGHn7B3xAXdAKzBe6qUCsIEJgu+2EQJNaJ0ZH26NAYHH59nx/pkD9HDViU8KpQGPqQx0Wx5xAJAzl+Ph9eUAkiE41CEGkQKrmiloyuK1AwZpJIO90oUC/GuHaFXeaQGREcraiZHRA2uBpbgDLgkApFznKAZ6CQOzqK/DosmlAF1hO/lspp0AO+T/Teep2QEhK5Av4MoRAQXq7pkceeEDtUsyBbkekQBzcIYAnuaBAKn1FuyIGaUCFFPP8xEN2QJXzegIEuGlA7BMnGNxAoEC3PDzNQkGeQFe11hmHpYdAURzmRt3GaECDiJuUypipQB+ZXJiTraRAvmqzFpAubkDF07HWzMdtQNBRSpOL7bFAZovJTpxFbUAaCM3D19OUQDNPiOhZ8KZAO/A2bkocnkA92SJVL9KfQITsaanKVINASYjgifUNkkAuftDv/cOCQGxFgAdw8KRAyKaUchqieECgOQPTyJ+wQIC0VtGGAqVAV7XWGYelh0BglKb5hr+oQE6b3e4lC4NA\",\"dtype\":\"float64\",\"order\":\"little\",\"shape\":[147]},\"index\":[0,1,2,3,4,5,6,7,8,9,10,11,12,13,14,15,16,17,18,19,20,21,22,23,24,25,26,27,28,29,30,31,32,33,34,35,36,37,38,39,40,41,42,43,44,45,46,47,48,49,50,51,52,53,54,55,56,57,58,59,60,61,62,63,64,65,66,67,68,69,70,71,72,73,74,75,76,77,78,79,80,81,82,83,84,85,86,87,88,89,90,91,92,93,94,95,96,97,98,99,100,101,102,103,104,105,106,107,108,109,110,111,112,113,114,115,116,117,118,119,120,121,122,123,124,125,126,127,128,129,130,131,132,133,134,135,136,137,138,139,140,141,142,143,144,145,146]},\"selected\":{\"id\":\"1694\"},\"selection_policy\":{\"id\":\"1715\"}},\"id\":\"1693\",\"type\":\"ColumnDataSource\"},{\"attributes\":{},\"id\":\"1694\",\"type\":\"Selection\"},{\"attributes\":{\"margin\":[5,5,5,5],\"name\":\"HSpacer02342\",\"sizing_mode\":\"stretch_width\"},\"id\":\"1728\",\"type\":\"Spacer\"},{\"attributes\":{\"children\":[{\"id\":\"1659\"},{\"id\":\"1663\"},{\"id\":\"1728\"}],\"margin\":[0,0,0,0],\"name\":\"Row02337\",\"tags\":[\"embedded\"]},\"id\":\"1658\",\"type\":\"Row\"},{\"attributes\":{},\"id\":\"1668\",\"type\":\"LinearScale\"},{\"attributes\":{},\"id\":\"1670\",\"type\":\"LinearScale\"},{\"attributes\":{\"axis_label\":\"USD\",\"coordinates\":null,\"formatter\":{\"id\":\"1706\"},\"group\":null,\"major_label_policy\":{\"id\":\"1707\"},\"ticker\":{\"id\":\"1677\"}},\"id\":\"1676\",\"type\":\"LinearAxis\"},{\"attributes\":{\"line_color\":\"#30a2da\",\"line_width\":2,\"x\":{\"field\":\"index\"},\"y\":{\"field\":\"Predictions\"}},\"id\":\"1696\",\"type\":\"Line\"},{\"attributes\":{\"bottom_units\":\"screen\",\"coordinates\":null,\"fill_alpha\":0.5,\"fill_color\":\"lightgrey\",\"group\":null,\"left_units\":\"screen\",\"level\":\"overlay\",\"line_alpha\":1.0,\"line_color\":\"black\",\"line_dash\":[4,4],\"line_width\":2,\"right_units\":\"screen\",\"syncable\":false,\"top_units\":\"screen\"},\"id\":\"1685\",\"type\":\"BoxAnnotation\"},{\"attributes\":{\"axis_label\":\"\",\"coordinates\":null,\"formatter\":{\"id\":\"1703\"},\"group\":null,\"major_label_policy\":{\"id\":\"1704\"},\"ticker\":{\"id\":\"1673\"}},\"id\":\"1672\",\"type\":\"LinearAxis\"},{\"attributes\":{\"margin\":[5,5,5,5],\"name\":\"HSpacer02341\",\"sizing_mode\":\"stretch_width\"},\"id\":\"1659\",\"type\":\"Spacer\"},{\"attributes\":{},\"id\":\"1677\",\"type\":\"BasicTicker\"},{\"attributes\":{\"end\":146.0,\"reset_end\":146.0,\"reset_start\":0.0,\"tags\":[[[\"index\",\"index\",null]]]},\"id\":\"1660\",\"type\":\"Range1d\"},{\"attributes\":{\"axis\":{\"id\":\"1676\"},\"coordinates\":null,\"dimension\":1,\"grid_line_color\":null,\"group\":null,\"ticker\":null},\"id\":\"1679\",\"type\":\"Grid\"},{\"attributes\":{\"source\":{\"id\":\"1693\"}},\"id\":\"1700\",\"type\":\"CDSView\"},{\"attributes\":{\"line_alpha\":0.2,\"line_color\":\"#30a2da\",\"line_width\":2,\"x\":{\"field\":\"index\"},\"y\":{\"field\":\"Predictions\"}},\"id\":\"1698\",\"type\":\"Line\"},{\"attributes\":{\"end\":5075.270534215049,\"reset_end\":5075.270534215049,\"reset_start\":-283.00453300152856,\"start\":-283.00453300152856,\"tags\":[[[\"Predictions\",\"Predictions\",null]]]},\"id\":\"1661\",\"type\":\"Range1d\"},{\"attributes\":{},\"id\":\"1704\",\"type\":\"AllLabels\"},{\"attributes\":{\"callback\":null,\"renderers\":[{\"id\":\"1699\"}],\"tags\":[\"hv_created\"],\"tooltips\":[[\"index\",\"@{index}\"],[\"Predictions\",\"@{Predictions}\"]]},\"id\":\"1662\",\"type\":\"HoverTool\"},{\"attributes\":{\"below\":[{\"id\":\"1672\"}],\"center\":[{\"id\":\"1675\"},{\"id\":\"1679\"}],\"height\":300,\"left\":[{\"id\":\"1676\"}],\"margin\":[5,5,5,5],\"min_border_bottom\":10,\"min_border_left\":10,\"min_border_right\":10,\"min_border_top\":10,\"renderers\":[{\"id\":\"1699\"}],\"sizing_mode\":\"fixed\",\"title\":{\"id\":\"1664\"},\"toolbar\":{\"id\":\"1686\"},\"width\":700,\"x_range\":{\"id\":\"1660\"},\"x_scale\":{\"id\":\"1668\"},\"y_range\":{\"id\":\"1661\"},\"y_scale\":{\"id\":\"1670\"}},\"id\":\"1663\",\"subtype\":\"Figure\",\"type\":\"Plot\"},{\"attributes\":{\"line_alpha\":0.1,\"line_color\":\"#30a2da\",\"line_width\":2,\"x\":{\"field\":\"index\"},\"y\":{\"field\":\"Predictions\"}},\"id\":\"1697\",\"type\":\"Line\"},{\"attributes\":{},\"id\":\"1715\",\"type\":\"UnionRenderers\"},{\"attributes\":{\"tools\":[{\"id\":\"1662\"},{\"id\":\"1680\"},{\"id\":\"1681\"},{\"id\":\"1682\"},{\"id\":\"1683\"},{\"id\":\"1684\"}]},\"id\":\"1686\",\"type\":\"Toolbar\"},{\"attributes\":{},\"id\":\"1680\",\"type\":\"SaveTool\"},{\"attributes\":{},\"id\":\"1681\",\"type\":\"PanTool\"},{\"attributes\":{},\"id\":\"1703\",\"type\":\"BasicTickFormatter\"},{\"attributes\":{},\"id\":\"1682\",\"type\":\"WheelZoomTool\"}],\"root_ids\":[\"1658\"]},\"title\":\"Bokeh Application\",\"version\":\"2.4.2\"}};\n",
       "    var render_items = [{\"docid\":\"d602abe3-a3c2-43a5-96dd-039dac81ac93\",\"root_ids\":[\"1658\"],\"roots\":{\"1658\":\"cd16c690-afde-40d4-9049-8aae9ef8191f\"}}];\n",
       "    root.Bokeh.embed.embed_items_notebook(docs_json, render_items);\n",
       "  }\n",
       "  if (root.Bokeh !== undefined && root.Bokeh.Panel !== undefined) {\n",
       "    embed_document(root);\n",
       "  } else {\n",
       "    var attempts = 0;\n",
       "    var timer = setInterval(function(root) {\n",
       "      if (root.Bokeh !== undefined && root.Bokeh.Panel !== undefined) {\n",
       "        clearInterval(timer);\n",
       "        embed_document(root);\n",
       "      } else if (document.readyState == \"complete\") {\n",
       "        attempts++;\n",
       "        if (attempts > 200) {\n",
       "          clearInterval(timer);\n",
       "          console.log(\"Bokeh: ERROR: Unable to run BokehJS code because BokehJS library is missing\");\n",
       "        }\n",
       "      }\n",
       "    }, 25, root)\n",
       "  }\n",
       "})(window);</script>"
      ],
      "text/plain": [
       ":Curve   [index]   (Predictions)"
      ]
     },
     "execution_count": 27,
     "metadata": {
      "application/vnd.holoviews_exec.v0+json": {
       "id": "1658"
      }
     },
     "output_type": "execute_result"
    }
   ],
   "source": [
    "half_year_prediction = pd.read_csv('Six_Month_ETH_Price_Prediction.csv')\n",
    "half_year_prediction.hvplot(title='Half Year ETH-USD Price Prediction', ylabel='USD', figsize=(16,8)) "
   ]
  },
  {
   "cell_type": "code",
   "execution_count": null,
   "id": "1b71b266-5e37-4e2c-bb75-b150f3e8e465",
   "metadata": {},
   "outputs": [],
   "source": []
  },
  {
   "cell_type": "code",
   "execution_count": null,
   "id": "af334bf3-894c-46fa-bd5d-ce0e661b9116",
   "metadata": {},
   "outputs": [],
   "source": []
  },
  {
   "cell_type": "code",
   "execution_count": null,
   "id": "274d6876-1960-4413-b559-155e8b898e66",
   "metadata": {},
   "outputs": [],
   "source": []
  }
 ],
 "metadata": {
  "kernelspec": {
   "display_name": "Python [conda env:pyvizenv] *",
   "language": "python",
   "name": "conda-env-pyvizenv-py"
  },
  "language_info": {
   "codemirror_mode": {
    "name": "ipython",
    "version": 3
   },
   "file_extension": ".py",
   "mimetype": "text/x-python",
   "name": "python",
   "nbconvert_exporter": "python",
   "pygments_lexer": "ipython3",
   "version": "3.7.11"
  }
 },
 "nbformat": 4,
 "nbformat_minor": 5
}
